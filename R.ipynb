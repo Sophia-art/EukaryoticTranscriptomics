{
 "cells": [
  {
   "cell_type": "code",
   "execution_count": 1,
   "metadata": {
    "scrolled": true
   },
   "outputs": [
    {
     "name": "stderr",
     "output_type": "stream",
     "text": [
      "Updating HTML index of packages in '.Library'\n",
      "Making 'packages.html' ... done\n",
      "Bioconductor version 3.9 (BiocManager 1.30.8), R 3.6.1 (2019-07-05)\n",
      "Installing package(s) 'BiocVersion', 'DESeq2'\n",
      "also installing the dependencies ‘ellipsis’, ‘rlang’, ‘zeallot’, ‘bit’, ‘vctrs’, ‘bitops’, ‘bit64’, ‘blob’, ‘memoise’, ‘RCurl’, ‘GenomeInfoDbData’, ‘zlibbioc’, ‘matrixStats’, ‘lambda.r’, ‘futile.options’, ‘RSQLite’, ‘XML’, ‘checkmate’, ‘GenomeInfoDb’, ‘XVector’, ‘DelayedArray’, ‘futile.logger’, ‘snow’, ‘AnnotationDbi’, ‘annotate’, ‘Formula’, ‘latticeExtra’, ‘acepack’, ‘gridExtra’, ‘htmlTable’, ‘viridis’, ‘S4Vectors’, ‘IRanges’, ‘GenomicRanges’, ‘SummarizedExperiment’, ‘BiocGenerics’, ‘Biobase’, ‘BiocParallel’, ‘genefilter’, ‘locfit’, ‘geneplotter’, ‘Hmisc’, ‘RcppArmadillo’\n",
      "\n",
      "Updating HTML index of packages in '.Library'\n",
      "Making 'packages.html' ... done\n",
      "Old packages: 'askpass', 'backports', 'boot', 'callr', 'caret', 'clipr',\n",
      "  'cluster', 'curl', 'data.table', 'dbplyr', 'digest', 'dplyr', 'evaluate',\n",
      "  'foreach', 'foreign', 'formatR', 'fs', 'ggplot2', 'glmnet', 'gower', 'haven',\n",
      "  'hexbin', 'hms', 'htmltools', 'htmlwidgets', 'httpuv', 'httr', 'ipred',\n",
      "  'IRkernel', 'iterators', 'KernSmooth', 'knitr', 'later', 'lava', 'markdown',\n",
      "  'MASS', 'mgcv', 'mime', 'modelr', 'nlme', 'numDeriv', 'openssl', 'pillar',\n",
      "  'pkgconfig', 'processx', 'progress', 'promises', 'purrr', 'quantmod', 'Rcpp',\n",
      "  'recipes', 'repr', 'reprex', 'rmarkdown', 'rvest', 'shiny', 'sys', 'tibble',\n",
      "  'tidyr', 'tinytex', 'TTR', 'whisker', 'xfun', 'xml2'\n",
      "Loading required package: S4Vectors\n",
      "Loading required package: stats4\n",
      "Loading required package: BiocGenerics\n",
      "Loading required package: parallel\n",
      "\n",
      "Attaching package: ‘BiocGenerics’\n",
      "\n",
      "The following objects are masked from ‘package:parallel’:\n",
      "\n",
      "    clusterApply, clusterApplyLB, clusterCall, clusterEvalQ,\n",
      "    clusterExport, clusterMap, parApply, parCapply, parLapply,\n",
      "    parLapplyLB, parRapply, parSapply, parSapplyLB\n",
      "\n",
      "The following objects are masked from ‘package:stats’:\n",
      "\n",
      "    IQR, mad, sd, var, xtabs\n",
      "\n",
      "The following objects are masked from ‘package:base’:\n",
      "\n",
      "    anyDuplicated, append, as.data.frame, basename, cbind, colnames,\n",
      "    dirname, do.call, duplicated, eval, evalq, Filter, Find, get, grep,\n",
      "    grepl, intersect, is.unsorted, lapply, Map, mapply, match, mget,\n",
      "    order, paste, pmax, pmax.int, pmin, pmin.int, Position, rank,\n",
      "    rbind, Reduce, rownames, sapply, setdiff, sort, table, tapply,\n",
      "    union, unique, unsplit, which, which.max, which.min\n",
      "\n",
      "\n",
      "Attaching package: ‘S4Vectors’\n",
      "\n",
      "The following object is masked from ‘package:base’:\n",
      "\n",
      "    expand.grid\n",
      "\n",
      "Loading required package: IRanges\n",
      "Loading required package: GenomicRanges\n",
      "Loading required package: GenomeInfoDb\n",
      "Loading required package: SummarizedExperiment\n",
      "Loading required package: Biobase\n",
      "Welcome to Bioconductor\n",
      "\n",
      "    Vignettes contain introductory material; view with\n",
      "    'browseVignettes()'. To cite Bioconductor, see\n",
      "    'citation(\"Biobase\")', and for packages 'citation(\"pkgname\")'.\n",
      "\n",
      "Loading required package: DelayedArray\n",
      "Loading required package: matrixStats\n",
      "\n",
      "Attaching package: ‘matrixStats’\n",
      "\n",
      "The following objects are masked from ‘package:Biobase’:\n",
      "\n",
      "    anyMissing, rowMedians\n",
      "\n",
      "Loading required package: BiocParallel\n",
      "\n",
      "Attaching package: ‘DelayedArray’\n",
      "\n",
      "The following objects are masked from ‘package:matrixStats’:\n",
      "\n",
      "    colMaxs, colMins, colRanges, rowMaxs, rowMins, rowRanges\n",
      "\n",
      "The following objects are masked from ‘package:base’:\n",
      "\n",
      "    aperm, apply, rowsum\n",
      "\n",
      "Registered S3 methods overwritten by 'ggplot2':\n",
      "  method         from \n",
      "  [.quosures     rlang\n",
      "  c.quosures     rlang\n",
      "  print.quosures rlang\n"
     ]
    }
   ],
   "source": [
    "install.packages(\"BiocManager\")\n",
    "library(BiocManager)\n",
    "BiocManager::install(\"DESeq2\")\n",
    "library(\"DESeq2\")  #This is the import for python"
   ]
  },
  {
   "cell_type": "code",
   "execution_count": 3,
   "metadata": {
    "scrolled": true
   },
   "outputs": [
    {
     "name": "stderr",
     "output_type": "stream",
     "text": [
      "Updating HTML index of packages in '.Library'\n",
      "Making 'packages.html' ... done\n",
      "Bioconductor version 3.9 (BiocManager 1.30.8), R 3.6.1 (2019-07-05)\n",
      "Installing package(s) 'edgeR'\n",
      "Updating HTML index of packages in '.Library'\n",
      "Making 'packages.html' ... done\n",
      "Old packages: 'askpass', 'backports', 'boot', 'callr', 'caret', 'clipr',\n",
      "  'cluster', 'curl', 'data.table', 'dbplyr', 'digest', 'dplyr', 'evaluate',\n",
      "  'foreach', 'foreign', 'formatR', 'fs', 'ggplot2', 'glmnet', 'gower', 'haven',\n",
      "  'hexbin', 'hms', 'htmltools', 'htmlwidgets', 'httpuv', 'httr', 'ipred',\n",
      "  'IRkernel', 'iterators', 'KernSmooth', 'knitr', 'later', 'lava', 'markdown',\n",
      "  'MASS', 'mgcv', 'mime', 'modelr', 'nlme', 'numDeriv', 'openssl', 'pillar',\n",
      "  'pkgconfig', 'processx', 'progress', 'promises', 'purrr', 'quantmod', 'Rcpp',\n",
      "  'recipes', 'repr', 'reprex', 'rmarkdown', 'rvest', 'shiny', 'sys', 'tibble',\n",
      "  'tidyr', 'tinytex', 'TTR', 'whisker', 'xfun', 'xml2'\n",
      "Loading required package: limma\n"
     ]
    }
   ],
   "source": [
    "install.packages(\"BiocManager\")\n",
    "library(BiocManager)\n",
    "BiocManager::install(\"edgeR\")\n",
    "library(\"edgeR\")"
   ]
  },
  {
   "cell_type": "code",
   "execution_count": 1,
   "metadata": {},
   "outputs": [],
   "source": [
    "library(BiocManager)"
   ]
  },
  {
   "cell_type": "code",
   "execution_count": 2,
   "metadata": {},
   "outputs": [
    {
     "name": "stderr",
     "output_type": "stream",
     "text": [
      "Loading required package: limma\n"
     ]
    }
   ],
   "source": [
    "library('edgeR')"
   ]
  },
  {
   "cell_type": "code",
   "execution_count": 22,
   "metadata": {},
   "outputs": [
    {
     "data": {
      "text/html": [
       "<ol class=list-inline>\n",
       "\t<li>'12859_2016_Article_1457.pdf'</li>\n",
       "\t<li>'document.pdf'</li>\n",
       "\t<li>'Exploratory data analysis (copy).ipynb'</li>\n",
       "\t<li>'Exploratory data analysis.ipynb'</li>\n",
       "\t<li>'Intro2RNAseq copy.pdf'</li>\n",
       "\t<li>'Intro2RNAseq.pdf'</li>\n",
       "\t<li>'project description.docx'</li>\n",
       "\t<li>'R.ipynb'</li>\n",
       "\t<li>'raw_countst.tsv'</li>\n",
       "\t<li>'raw_countstdl.sec'</li>\n",
       "\t<li>'raw_countstdl.sec copy'</li>\n",
       "\t<li>'RNA-Seq_project.pdf'</li>\n",
       "\t<li>'Supplementary-RNAseq-practical.pdf'</li>\n",
       "</ol>\n"
      ],
      "text/latex": [
       "\\begin{enumerate*}\n",
       "\\item '12859\\_2016\\_Article\\_1457.pdf'\n",
       "\\item 'document.pdf'\n",
       "\\item 'Exploratory data analysis (copy).ipynb'\n",
       "\\item 'Exploratory data analysis.ipynb'\n",
       "\\item 'Intro2RNAseq copy.pdf'\n",
       "\\item 'Intro2RNAseq.pdf'\n",
       "\\item 'project description.docx'\n",
       "\\item 'R.ipynb'\n",
       "\\item 'raw\\_countst.tsv'\n",
       "\\item 'raw\\_countstdl.sec'\n",
       "\\item 'raw\\_countstdl.sec copy'\n",
       "\\item 'RNA-Seq\\_project.pdf'\n",
       "\\item 'Supplementary-RNAseq-practical.pdf'\n",
       "\\end{enumerate*}\n"
      ],
      "text/markdown": [
       "1. '12859_2016_Article_1457.pdf'\n",
       "2. 'document.pdf'\n",
       "3. 'Exploratory data analysis (copy).ipynb'\n",
       "4. 'Exploratory data analysis.ipynb'\n",
       "5. 'Intro2RNAseq copy.pdf'\n",
       "6. 'Intro2RNAseq.pdf'\n",
       "7. 'project description.docx'\n",
       "8. 'R.ipynb'\n",
       "9. 'raw_countst.tsv'\n",
       "10. 'raw_countstdl.sec'\n",
       "11. 'raw_countstdl.sec copy'\n",
       "12. 'RNA-Seq_project.pdf'\n",
       "13. 'Supplementary-RNAseq-practical.pdf'\n",
       "\n",
       "\n"
      ],
      "text/plain": [
       " [1] \"12859_2016_Article_1457.pdf\"           \n",
       " [2] \"document.pdf\"                          \n",
       " [3] \"Exploratory data analysis (copy).ipynb\"\n",
       " [4] \"Exploratory data analysis.ipynb\"       \n",
       " [5] \"Intro2RNAseq copy.pdf\"                 \n",
       " [6] \"Intro2RNAseq.pdf\"                      \n",
       " [7] \"project description.docx\"              \n",
       " [8] \"R.ipynb\"                               \n",
       " [9] \"raw_countst.tsv\"                       \n",
       "[10] \"raw_countstdl.sec\"                     \n",
       "[11] \"raw_countstdl.sec copy\"                \n",
       "[12] \"RNA-Seq_project.pdf\"                   \n",
       "[13] \"Supplementary-RNAseq-practical.pdf\"    "
      ]
     },
     "metadata": {},
     "output_type": "display_data"
    }
   ],
   "source": [
    "dir()"
   ]
  },
  {
   "cell_type": "code",
   "execution_count": 78,
   "metadata": {},
   "outputs": [
    {
     "data": {
      "text/html": [
       "'/home/dimitri/ownCloud/Lectures/Programming for Life Sciences/EukaryoticTranscriptomics'"
      ],
      "text/latex": [
       "'/home/dimitri/ownCloud/Lectures/Programming for Life Sciences/EukaryoticTranscriptomics'"
      ],
      "text/markdown": [
       "'/home/dimitri/ownCloud/Lectures/Programming for Life Sciences/EukaryoticTranscriptomics'"
      ],
      "text/plain": [
       "[1] \"/home/dimitri/ownCloud/Lectures/Programming for Life Sciences/EukaryoticTranscriptomics\""
      ]
     },
     "metadata": {},
     "output_type": "display_data"
    },
    {
     "data": {
      "text/html": [
       "<table>\n",
       "<thead><tr><th></th><th scope=col>ctl1</th><th scope=col>ctl2</th><th scope=col>ctl3</th><th scope=col>ctl4</th><th scope=col>trt1</th><th scope=col>trt2</th><th scope=col>trt3</th><th scope=col>trt4</th></tr></thead>\n",
       "<tbody>\n",
       "\t<tr><th scope=row>ENSMUSG00000102693</th><td>0 </td><td>0 </td><td>0 </td><td>0 </td><td> 0</td><td>0 </td><td>0 </td><td> 0</td></tr>\n",
       "\t<tr><th scope=row>ENSMUSG00000064842</th><td>0 </td><td>0 </td><td>0 </td><td>0 </td><td> 1</td><td>0 </td><td>0 </td><td> 0</td></tr>\n",
       "\t<tr><th scope=row>ENSMUSG00000051951</th><td>2 </td><td>0 </td><td>1 </td><td>1 </td><td>11</td><td>2 </td><td>1 </td><td>24</td></tr>\n",
       "\t<tr><th scope=row>ENSMUSG00000102851</th><td>0 </td><td>0 </td><td>0 </td><td>0 </td><td> 0</td><td>0 </td><td>0 </td><td> 0</td></tr>\n",
       "\t<tr><th scope=row>ENSMUSG00000103377</th><td>0 </td><td>0 </td><td>0 </td><td>0 </td><td> 0</td><td>0 </td><td>0 </td><td> 0</td></tr>\n",
       "\t<tr><th scope=row>ENSMUSG00000104017</th><td>0 </td><td>0 </td><td>0 </td><td>0 </td><td> 0</td><td>0 </td><td>0 </td><td> 0</td></tr>\n",
       "</tbody>\n",
       "</table>\n"
      ],
      "text/latex": [
       "\\begin{tabular}{r|llllllll}\n",
       "  & ctl1 & ctl2 & ctl3 & ctl4 & trt1 & trt2 & trt3 & trt4\\\\\n",
       "\\hline\n",
       "\tENSMUSG00000102693 & 0  & 0  & 0  & 0  &  0 & 0  & 0  &  0\\\\\n",
       "\tENSMUSG00000064842 & 0  & 0  & 0  & 0  &  1 & 0  & 0  &  0\\\\\n",
       "\tENSMUSG00000051951 & 2  & 0  & 1  & 1  & 11 & 2  & 1  & 24\\\\\n",
       "\tENSMUSG00000102851 & 0  & 0  & 0  & 0  &  0 & 0  & 0  &  0\\\\\n",
       "\tENSMUSG00000103377 & 0  & 0  & 0  & 0  &  0 & 0  & 0  &  0\\\\\n",
       "\tENSMUSG00000104017 & 0  & 0  & 0  & 0  &  0 & 0  & 0  &  0\\\\\n",
       "\\end{tabular}\n"
      ],
      "text/markdown": [
       "\n",
       "| <!--/--> | ctl1 | ctl2 | ctl3 | ctl4 | trt1 | trt2 | trt3 | trt4 |\n",
       "|---|---|---|---|---|---|---|---|---|\n",
       "| ENSMUSG00000102693 | 0  | 0  | 0  | 0  |  0 | 0  | 0  |  0 |\n",
       "| ENSMUSG00000064842 | 0  | 0  | 0  | 0  |  1 | 0  | 0  |  0 |\n",
       "| ENSMUSG00000051951 | 2  | 0  | 1  | 1  | 11 | 2  | 1  | 24 |\n",
       "| ENSMUSG00000102851 | 0  | 0  | 0  | 0  |  0 | 0  | 0  |  0 |\n",
       "| ENSMUSG00000103377 | 0  | 0  | 0  | 0  |  0 | 0  | 0  |  0 |\n",
       "| ENSMUSG00000104017 | 0  | 0  | 0  | 0  |  0 | 0  | 0  |  0 |\n",
       "\n"
      ],
      "text/plain": [
       "                   ctl1 ctl2 ctl3 ctl4 trt1 trt2 trt3 trt4\n",
       "ENSMUSG00000102693 0    0    0    0     0   0    0     0  \n",
       "ENSMUSG00000064842 0    0    0    0     1   0    0     0  \n",
       "ENSMUSG00000051951 2    0    1    1    11   2    1    24  \n",
       "ENSMUSG00000102851 0    0    0    0     0   0    0     0  \n",
       "ENSMUSG00000103377 0    0    0    0     0   0    0     0  \n",
       "ENSMUSG00000104017 0    0    0    0     0   0    0     0  "
      ]
     },
     "metadata": {},
     "output_type": "display_data"
    }
   ],
   "source": [
    "getwd()\n",
    "x <- read.delim(\"raw_countst.sec\",row.names=1,stringsAsFactors=FALSE)\n",
    "head(x)"
   ]
  },
  {
   "cell_type": "code",
   "execution_count": 88,
   "metadata": {},
   "outputs": [],
   "source": [
    "y <- DGEList(counts=x,group=Treat)"
   ]
  },
  {
   "cell_type": "code",
   "execution_count": 89,
   "metadata": {},
   "outputs": [],
   "source": [
    "keep <- filterByExpr(y)\n",
    "z <- y[keep, , keep.lib.sizes=FALSE]"
   ]
  },
  {
   "cell_type": "code",
   "execution_count": 90,
   "metadata": {},
   "outputs": [],
   "source": [
    "z <- calcNormFactors(z)"
   ]
  },
  {
   "cell_type": "code",
   "execution_count": 91,
   "metadata": {},
   "outputs": [
    {
     "data": {
      "text/html": [
       "<table>\n",
       "<thead><tr><th></th><th scope=col>group</th><th scope=col>lib.size</th><th scope=col>norm.factors</th></tr></thead>\n",
       "<tbody>\n",
       "\t<tr><th scope=row>ctl1</th><td>ctl      </td><td> 41354826</td><td>0.9529242</td></tr>\n",
       "\t<tr><th scope=row>ctl2</th><td>ctl      </td><td> 34584886</td><td>0.9774164</td></tr>\n",
       "\t<tr><th scope=row>ctl3</th><td>ctl      </td><td> 35459391</td><td>1.0160967</td></tr>\n",
       "\t<tr><th scope=row>ctl4</th><td>ctl      </td><td> 37095889</td><td>0.9948952</td></tr>\n",
       "\t<tr><th scope=row>trt1</th><td>trt      </td><td> 39989405</td><td>1.0310074</td></tr>\n",
       "\t<tr><th scope=row>trt2</th><td>trt      </td><td> 36877683</td><td>0.9849949</td></tr>\n",
       "\t<tr><th scope=row>trt3</th><td>trt      </td><td> 40271257</td><td>1.0715532</td></tr>\n",
       "\t<tr><th scope=row>trt4</th><td>trt      </td><td>173486417</td><td>0.9759783</td></tr>\n",
       "</tbody>\n",
       "</table>\n"
      ],
      "text/latex": [
       "\\begin{tabular}{r|lll}\n",
       "  & group & lib.size & norm.factors\\\\\n",
       "\\hline\n",
       "\tctl1 & ctl       &  41354826 & 0.9529242\\\\\n",
       "\tctl2 & ctl       &  34584886 & 0.9774164\\\\\n",
       "\tctl3 & ctl       &  35459391 & 1.0160967\\\\\n",
       "\tctl4 & ctl       &  37095889 & 0.9948952\\\\\n",
       "\ttrt1 & trt       &  39989405 & 1.0310074\\\\\n",
       "\ttrt2 & trt       &  36877683 & 0.9849949\\\\\n",
       "\ttrt3 & trt       &  40271257 & 1.0715532\\\\\n",
       "\ttrt4 & trt       & 173486417 & 0.9759783\\\\\n",
       "\\end{tabular}\n"
      ],
      "text/markdown": [
       "\n",
       "| <!--/--> | group | lib.size | norm.factors |\n",
       "|---|---|---|---|\n",
       "| ctl1 | ctl       |  41354826 | 0.9529242 |\n",
       "| ctl2 | ctl       |  34584886 | 0.9774164 |\n",
       "| ctl3 | ctl       |  35459391 | 1.0160967 |\n",
       "| ctl4 | ctl       |  37095889 | 0.9948952 |\n",
       "| trt1 | trt       |  39989405 | 1.0310074 |\n",
       "| trt2 | trt       |  36877683 | 0.9849949 |\n",
       "| trt3 | trt       |  40271257 | 1.0715532 |\n",
       "| trt4 | trt       | 173486417 | 0.9759783 |\n",
       "\n"
      ],
      "text/plain": [
       "     group lib.size  norm.factors\n",
       "ctl1 ctl    41354826 0.9529242   \n",
       "ctl2 ctl    34584886 0.9774164   \n",
       "ctl3 ctl    35459391 1.0160967   \n",
       "ctl4 ctl    37095889 0.9948952   \n",
       "trt1 trt    39989405 1.0310074   \n",
       "trt2 trt    36877683 0.9849949   \n",
       "trt3 trt    40271257 1.0715532   \n",
       "trt4 trt   173486417 0.9759783   "
      ]
     },
     "metadata": {},
     "output_type": "display_data"
    }
   ],
   "source": [
    "# how to name group as ctl and treat\n",
    "z$samples"
   ]
  },
  {
   "cell_type": "code",
   "execution_count": 17,
   "metadata": {},
   "outputs": [
    {
     "data": {
      "image/png": "[encoded data removed]",
      "text/plain": [
       "plot without title"
      ]
     },
     "metadata": {},
     "output_type": "display_data"
    }
   ],
   "source": [
    "plotMDS(z,col=rep(1:2, each=4))"
   ]
  },
  {
   "cell_type": "code",
   "execution_count": 73,
   "metadata": {},
   "outputs": [
    {
     "data": {
      "text/html": [
       "<table>\n",
       "<thead><tr><th></th><th scope=col>ctl1</th><th scope=col>ctl2</th><th scope=col>ctl3</th><th scope=col>ctl4</th><th scope=col>treat1</th><th scope=col>treat2</th><th scope=col>treat3</th><th scope=col>treat4</th></tr></thead>\n",
       "<tbody>\n",
       "\t<tr><th scope=row>ENSMUSG00000102693</th><td>0 </td><td>0 </td><td>0 </td><td>0 </td><td> 0</td><td>0 </td><td>0 </td><td> 0</td></tr>\n",
       "\t<tr><th scope=row>ENSMUSG00000064842</th><td>0 </td><td>0 </td><td>0 </td><td>0 </td><td> 1</td><td>0 </td><td>0 </td><td> 0</td></tr>\n",
       "\t<tr><th scope=row>ENSMUSG00000051951</th><td>2 </td><td>0 </td><td>1 </td><td>1 </td><td>11</td><td>2 </td><td>1 </td><td>24</td></tr>\n",
       "\t<tr><th scope=row>ENSMUSG00000102851</th><td>0 </td><td>0 </td><td>0 </td><td>0 </td><td> 0</td><td>0 </td><td>0 </td><td> 0</td></tr>\n",
       "\t<tr><th scope=row>ENSMUSG00000103377</th><td>0 </td><td>0 </td><td>0 </td><td>0 </td><td> 0</td><td>0 </td><td>0 </td><td> 0</td></tr>\n",
       "\t<tr><th scope=row>ENSMUSG00000104017</th><td>0 </td><td>0 </td><td>0 </td><td>0 </td><td> 0</td><td>0 </td><td>0 </td><td> 0</td></tr>\n",
       "</tbody>\n",
       "</table>\n"
      ],
      "text/latex": [
       "\\begin{tabular}{r|llllllll}\n",
       "  & ctl1 & ctl2 & ctl3 & ctl4 & treat1 & treat2 & treat3 & treat4\\\\\n",
       "\\hline\n",
       "\tENSMUSG00000102693 & 0  & 0  & 0  & 0  &  0 & 0  & 0  &  0\\\\\n",
       "\tENSMUSG00000064842 & 0  & 0  & 0  & 0  &  1 & 0  & 0  &  0\\\\\n",
       "\tENSMUSG00000051951 & 2  & 0  & 1  & 1  & 11 & 2  & 1  & 24\\\\\n",
       "\tENSMUSG00000102851 & 0  & 0  & 0  & 0  &  0 & 0  & 0  &  0\\\\\n",
       "\tENSMUSG00000103377 & 0  & 0  & 0  & 0  &  0 & 0  & 0  &  0\\\\\n",
       "\tENSMUSG00000104017 & 0  & 0  & 0  & 0  &  0 & 0  & 0  &  0\\\\\n",
       "\\end{tabular}\n"
      ],
      "text/markdown": [
       "\n",
       "| <!--/--> | ctl1 | ctl2 | ctl3 | ctl4 | treat1 | treat2 | treat3 | treat4 |\n",
       "|---|---|---|---|---|---|---|---|---|\n",
       "| ENSMUSG00000102693 | 0  | 0  | 0  | 0  |  0 | 0  | 0  |  0 |\n",
       "| ENSMUSG00000064842 | 0  | 0  | 0  | 0  |  1 | 0  | 0  |  0 |\n",
       "| ENSMUSG00000051951 | 2  | 0  | 1  | 1  | 11 | 2  | 1  | 24 |\n",
       "| ENSMUSG00000102851 | 0  | 0  | 0  | 0  |  0 | 0  | 0  |  0 |\n",
       "| ENSMUSG00000103377 | 0  | 0  | 0  | 0  |  0 | 0  | 0  |  0 |\n",
       "| ENSMUSG00000104017 | 0  | 0  | 0  | 0  |  0 | 0  | 0  |  0 |\n",
       "\n"
      ],
      "text/plain": [
       "                   ctl1 ctl2 ctl3 ctl4 treat1 treat2 treat3 treat4\n",
       "ENSMUSG00000102693 0    0    0    0     0     0      0       0    \n",
       "ENSMUSG00000064842 0    0    0    0     1     0      0       0    \n",
       "ENSMUSG00000051951 2    0    1    1    11     2      1      24    \n",
       "ENSMUSG00000102851 0    0    0    0     0     0      0       0    \n",
       "ENSMUSG00000103377 0    0    0    0     0     0      0       0    \n",
       "ENSMUSG00000104017 0    0    0    0     0     0      0       0    "
      ]
     },
     "metadata": {},
     "output_type": "display_data"
    }
   ],
   "source": [
    "head(x)"
   ]
  },
  {
   "cell_type": "code",
   "execution_count": 86,
   "metadata": {},
   "outputs": [],
   "source": [
    "\n",
    "Treat <- factor(substring(colnames(x),1,3))\n",
    "Treat <- relevel(Treat, ref='ctl')\n",
    "Time <- factor(substring(colnames(x),4,4))"
   ]
  },
  {
   "cell_type": "code",
   "execution_count": 87,
   "metadata": {
    "scrolled": true
   },
   "outputs": [
    {
     "data": {
      "text/html": [
       "<ol class=list-inline>\n",
       "\t<li>ctl</li>\n",
       "\t<li>ctl</li>\n",
       "\t<li>ctl</li>\n",
       "\t<li>ctl</li>\n",
       "\t<li>trt</li>\n",
       "\t<li>trt</li>\n",
       "\t<li>trt</li>\n",
       "\t<li>trt</li>\n",
       "</ol>\n",
       "\n",
       "<details>\n",
       "\t<summary style=display:list-item;cursor:pointer>\n",
       "\t\t<strong>Levels</strong>:\n",
       "\t</summary>\n",
       "\t<ol class=list-inline>\n",
       "\t\t<li>'ctl'</li>\n",
       "\t\t<li>'trt'</li>\n",
       "\t</ol>\n",
       "</details>"
      ],
      "text/latex": [
       "\\begin{enumerate*}\n",
       "\\item ctl\n",
       "\\item ctl\n",
       "\\item ctl\n",
       "\\item ctl\n",
       "\\item trt\n",
       "\\item trt\n",
       "\\item trt\n",
       "\\item trt\n",
       "\\end{enumerate*}\n",
       "\n",
       "\\emph{Levels}: \\begin{enumerate*}\n",
       "\\item 'ctl'\n",
       "\\item 'trt'\n",
       "\\end{enumerate*}\n"
      ],
      "text/markdown": [
       "1. ctl\n",
       "2. ctl\n",
       "3. ctl\n",
       "4. ctl\n",
       "5. trt\n",
       "6. trt\n",
       "7. trt\n",
       "8. trt\n",
       "\n",
       "\n",
       "\n",
       "**Levels**: 1. 'ctl'\n",
       "2. 'trt'\n",
       "\n",
       "\n"
      ],
      "text/plain": [
       "[1] ctl ctl ctl ctl trt trt trt trt\n",
       "Levels: ctl trt"
      ]
     },
     "metadata": {},
     "output_type": "display_data"
    }
   ],
   "source": [
    "Treat"
   ]
  },
  {
   "cell_type": "code",
   "execution_count": 63,
   "metadata": {},
   "outputs": [],
   "source": [
    "Treat = c(\"ctl\", \"ctl\",\"ctl\",\"ctl\", \"treat\", \"treat\", \"treat\",\"treat\")"
   ]
  },
  {
   "cell_type": "code",
   "execution_count": 64,
   "metadata": {},
   "outputs": [
    {
     "data": {
      "text/html": [
       "<ol class=list-inline>\n",
       "\t<li>'ctl'</li>\n",
       "\t<li>'ctl'</li>\n",
       "\t<li>'ctl'</li>\n",
       "\t<li>'ctl'</li>\n",
       "\t<li>'treat'</li>\n",
       "\t<li>'treat'</li>\n",
       "\t<li>'treat'</li>\n",
       "\t<li>'treat'</li>\n",
       "</ol>\n"
      ],
      "text/latex": [
       "\\begin{enumerate*}\n",
       "\\item 'ctl'\n",
       "\\item 'ctl'\n",
       "\\item 'ctl'\n",
       "\\item 'ctl'\n",
       "\\item 'treat'\n",
       "\\item 'treat'\n",
       "\\item 'treat'\n",
       "\\item 'treat'\n",
       "\\end{enumerate*}\n"
      ],
      "text/markdown": [
       "1. 'ctl'\n",
       "2. 'ctl'\n",
       "3. 'ctl'\n",
       "4. 'ctl'\n",
       "5. 'treat'\n",
       "6. 'treat'\n",
       "7. 'treat'\n",
       "8. 'treat'\n",
       "\n",
       "\n"
      ],
      "text/plain": [
       "[1] \"ctl\"   \"ctl\"   \"ctl\"   \"ctl\"   \"treat\" \"treat\" \"treat\" \"treat\""
      ]
     },
     "metadata": {},
     "output_type": "display_data"
    }
   ],
   "source": [
    "Treat"
   ]
  },
  {
   "cell_type": "code",
   "execution_count": 66,
   "metadata": {},
   "outputs": [
    {
     "ename": "ERROR",
     "evalue": "Error in relevel.default(Treat, ref = \"ctl\"): 'relevel' only for (unordered) factors\n",
     "output_type": "error",
     "traceback": [
      "Error in relevel.default(Treat, ref = \"ctl\"): 'relevel' only for (unordered) factors\nTraceback:\n",
      "1. relevel(Treat, ref = \"ctl\")",
      "2. relevel.default(Treat, ref = \"ctl\")",
      "3. stop(\"'relevel' only for (unordered) factors\")"
     ]
    }
   ],
   "source": [
    "Treat <- relevel(Treat, ref='ctl')"
   ]
  },
  {
   "cell_type": "code",
   "execution_count": 69,
   "metadata": {},
   "outputs": [],
   "source": [
    "Time <- c(\"1\", \"2\",\"3\",\"4\", \"1\", \"2\", \"3\",\"4\")"
   ]
  },
  {
   "cell_type": "code",
   "execution_count": 92,
   "metadata": {},
   "outputs": [
    {
     "data": {
      "text/html": [
       "<ol class=list-inline>\n",
       "\t<li>1</li>\n",
       "\t<li>2</li>\n",
       "\t<li>3</li>\n",
       "\t<li>4</li>\n",
       "\t<li>1</li>\n",
       "\t<li>2</li>\n",
       "\t<li>3</li>\n",
       "\t<li>4</li>\n",
       "</ol>\n",
       "\n",
       "<details>\n",
       "\t<summary style=display:list-item;cursor:pointer>\n",
       "\t\t<strong>Levels</strong>:\n",
       "\t</summary>\n",
       "\t<ol class=list-inline>\n",
       "\t\t<li>'1'</li>\n",
       "\t\t<li>'2'</li>\n",
       "\t\t<li>'3'</li>\n",
       "\t\t<li>'4'</li>\n",
       "\t</ol>\n",
       "</details>"
      ],
      "text/latex": [
       "\\begin{enumerate*}\n",
       "\\item 1\n",
       "\\item 2\n",
       "\\item 3\n",
       "\\item 4\n",
       "\\item 1\n",
       "\\item 2\n",
       "\\item 3\n",
       "\\item 4\n",
       "\\end{enumerate*}\n",
       "\n",
       "\\emph{Levels}: \\begin{enumerate*}\n",
       "\\item '1'\n",
       "\\item '2'\n",
       "\\item '3'\n",
       "\\item '4'\n",
       "\\end{enumerate*}\n"
      ],
      "text/markdown": [
       "1. 1\n",
       "2. 2\n",
       "3. 3\n",
       "4. 4\n",
       "5. 1\n",
       "6. 2\n",
       "7. 3\n",
       "8. 4\n",
       "\n",
       "\n",
       "\n",
       "**Levels**: 1. '1'\n",
       "2. '2'\n",
       "3. '3'\n",
       "4. '4'\n",
       "\n",
       "\n"
      ],
      "text/plain": [
       "[1] 1 2 3 4 1 2 3 4\n",
       "Levels: 1 2 3 4"
      ]
     },
     "metadata": {},
     "output_type": "display_data"
    }
   ],
   "source": [
    "Time"
   ]
  },
  {
   "cell_type": "code",
   "execution_count": 94,
   "metadata": {},
   "outputs": [],
   "source": [
    "design <- model.matrix(~Time+Time:Treat) #Tilde no minus!! Tilde takes a specific column"
   ]
  },
  {
   "cell_type": "code",
   "execution_count": 100,
   "metadata": {
    "scrolled": true
   },
   "outputs": [
    {
     "data": {
      "text/html": [
       "<table>\n",
       "<thead><tr><th scope=col>(Intercept)</th><th scope=col>Time2</th><th scope=col>Time3</th><th scope=col>Time4</th><th scope=col>Time1:Treattrt</th><th scope=col>Time2:Treattrt</th><th scope=col>Time3:Treattrt</th><th scope=col>Time4:Treattrt</th></tr></thead>\n",
       "<tbody>\n",
       "\t<tr><td>1</td><td>0</td><td>0</td><td>0</td><td>0</td><td>0</td><td>0</td><td>0</td></tr>\n",
       "\t<tr><td>1</td><td>1</td><td>0</td><td>0</td><td>0</td><td>0</td><td>0</td><td>0</td></tr>\n",
       "\t<tr><td>1</td><td>0</td><td>1</td><td>0</td><td>0</td><td>0</td><td>0</td><td>0</td></tr>\n",
       "\t<tr><td>1</td><td>0</td><td>0</td><td>1</td><td>0</td><td>0</td><td>0</td><td>0</td></tr>\n",
       "\t<tr><td>1</td><td>0</td><td>0</td><td>0</td><td>1</td><td>0</td><td>0</td><td>0</td></tr>\n",
       "\t<tr><td>1</td><td>1</td><td>0</td><td>0</td><td>0</td><td>1</td><td>0</td><td>0</td></tr>\n",
       "\t<tr><td>1</td><td>0</td><td>1</td><td>0</td><td>0</td><td>0</td><td>1</td><td>0</td></tr>\n",
       "\t<tr><td>1</td><td>0</td><td>0</td><td>1</td><td>0</td><td>0</td><td>0</td><td>1</td></tr>\n",
       "</tbody>\n",
       "</table>\n"
      ],
      "text/latex": [
       "\\begin{tabular}{r|llllllll}\n",
       " (Intercept) & Time2 & Time3 & Time4 & Time1:Treattrt & Time2:Treattrt & Time3:Treattrt & Time4:Treattrt\\\\\n",
       "\\hline\n",
       "\t 1 & 0 & 0 & 0 & 0 & 0 & 0 & 0\\\\\n",
       "\t 1 & 1 & 0 & 0 & 0 & 0 & 0 & 0\\\\\n",
       "\t 1 & 0 & 1 & 0 & 0 & 0 & 0 & 0\\\\\n",
       "\t 1 & 0 & 0 & 1 & 0 & 0 & 0 & 0\\\\\n",
       "\t 1 & 0 & 0 & 0 & 1 & 0 & 0 & 0\\\\\n",
       "\t 1 & 1 & 0 & 0 & 0 & 1 & 0 & 0\\\\\n",
       "\t 1 & 0 & 1 & 0 & 0 & 0 & 1 & 0\\\\\n",
       "\t 1 & 0 & 0 & 1 & 0 & 0 & 0 & 1\\\\\n",
       "\\end{tabular}\n"
      ],
      "text/markdown": [
       "\n",
       "| (Intercept) | Time2 | Time3 | Time4 | Time1:Treattrt | Time2:Treattrt | Time3:Treattrt | Time4:Treattrt |\n",
       "|---|---|---|---|---|---|---|---|\n",
       "| 1 | 0 | 0 | 0 | 0 | 0 | 0 | 0 |\n",
       "| 1 | 1 | 0 | 0 | 0 | 0 | 0 | 0 |\n",
       "| 1 | 0 | 1 | 0 | 0 | 0 | 0 | 0 |\n",
       "| 1 | 0 | 0 | 1 | 0 | 0 | 0 | 0 |\n",
       "| 1 | 0 | 0 | 0 | 1 | 0 | 0 | 0 |\n",
       "| 1 | 1 | 0 | 0 | 0 | 1 | 0 | 0 |\n",
       "| 1 | 0 | 1 | 0 | 0 | 0 | 1 | 0 |\n",
       "| 1 | 0 | 0 | 1 | 0 | 0 | 0 | 1 |\n",
       "\n"
      ],
      "text/plain": [
       "  (Intercept) Time2 Time3 Time4 Time1:Treattrt Time2:Treattrt Time3:Treattrt\n",
       "1 1           0     0     0     0              0              0             \n",
       "2 1           1     0     0     0              0              0             \n",
       "3 1           0     1     0     0              0              0             \n",
       "4 1           0     0     1     0              0              0             \n",
       "5 1           0     0     0     1              0              0             \n",
       "6 1           1     0     0     0              1              0             \n",
       "7 1           0     1     0     0              0              1             \n",
       "8 1           0     0     1     0              0              0             \n",
       "  Time4:Treattrt\n",
       "1 0             \n",
       "2 0             \n",
       "3 0             \n",
       "4 0             \n",
       "5 0             \n",
       "6 0             \n",
       "7 0             \n",
       "8 1             "
      ]
     },
     "metadata": {},
     "output_type": "display_data"
    }
   ],
   "source": [
    "design"
   ]
  },
  {
   "cell_type": "code",
   "execution_count": 99,
   "metadata": {},
   "outputs": [],
   "source": [
    "logFC <- predFC(z,design,prior.count=1,dispersion=0.05)"
   ]
  },
  {
   "cell_type": "code",
   "execution_count": 98,
   "metadata": {},
   "outputs": [
    {
     "data": {
      "text/html": [
       "<table>\n",
       "<thead><tr><th></th><th scope=col>Time1:Treattrt</th><th scope=col>Time2:Treattrt</th><th scope=col>Time3:Treattrt</th><th scope=col>Time4:Treattrt</th></tr></thead>\n",
       "<tbody>\n",
       "\t<tr><th scope=row>Time1:Treattrt</th><td>1.0000000</td><td>0.2597664</td><td>0.6361607</td><td>0.3100181</td></tr>\n",
       "\t<tr><th scope=row>Time2:Treattrt</th><td>0.2597664</td><td>1.0000000</td><td>0.4250039</td><td>0.3036842</td></tr>\n",
       "\t<tr><th scope=row>Time3:Treattrt</th><td>0.6361607</td><td>0.4250039</td><td>1.0000000</td><td>0.3270622</td></tr>\n",
       "\t<tr><th scope=row>Time4:Treattrt</th><td>0.3100181</td><td>0.3036842</td><td>0.3270622</td><td>1.0000000</td></tr>\n",
       "</tbody>\n",
       "</table>\n"
      ],
      "text/latex": [
       "\\begin{tabular}{r|llll}\n",
       "  & Time1:Treattrt & Time2:Treattrt & Time3:Treattrt & Time4:Treattrt\\\\\n",
       "\\hline\n",
       "\tTime1:Treattrt & 1.0000000 & 0.2597664 & 0.6361607 & 0.3100181\\\\\n",
       "\tTime2:Treattrt & 0.2597664 & 1.0000000 & 0.4250039 & 0.3036842\\\\\n",
       "\tTime3:Treattrt & 0.6361607 & 0.4250039 & 1.0000000 & 0.3270622\\\\\n",
       "\tTime4:Treattrt & 0.3100181 & 0.3036842 & 0.3270622 & 1.0000000\\\\\n",
       "\\end{tabular}\n"
      ],
      "text/markdown": [
       "\n",
       "| <!--/--> | Time1:Treattrt | Time2:Treattrt | Time3:Treattrt | Time4:Treattrt |\n",
       "|---|---|---|---|---|\n",
       "| Time1:Treattrt | 1.0000000 | 0.2597664 | 0.6361607 | 0.3100181 |\n",
       "| Time2:Treattrt | 0.2597664 | 1.0000000 | 0.4250039 | 0.3036842 |\n",
       "| Time3:Treattrt | 0.6361607 | 0.4250039 | 1.0000000 | 0.3270622 |\n",
       "| Time4:Treattrt | 0.3100181 | 0.3036842 | 0.3270622 | 1.0000000 |\n",
       "\n"
      ],
      "text/plain": [
       "               Time1:Treattrt Time2:Treattrt Time3:Treattrt Time4:Treattrt\n",
       "Time1:Treattrt 1.0000000      0.2597664      0.6361607      0.3100181     \n",
       "Time2:Treattrt 0.2597664      1.0000000      0.4250039      0.3036842     \n",
       "Time3:Treattrt 0.6361607      0.4250039      1.0000000      0.3270622     \n",
       "Time4:Treattrt 0.3100181      0.3036842      0.3270622      1.0000000     "
      ]
     },
     "metadata": {},
     "output_type": "display_data"
    }
   ],
   "source": [
    "cor(logFC[,5:8])"
   ]
  },
  {
   "cell_type": "code",
   "execution_count": 97,
   "metadata": {},
   "outputs": [
    {
     "data": {
      "text/html": [
       "<table>\n",
       "<thead><tr><th></th><th scope=col>(Intercept)</th><th scope=col>Time2</th><th scope=col>Time3</th><th scope=col>Time4</th><th scope=col>Time1:Treattrt</th><th scope=col>Time2:Treattrt</th><th scope=col>Time3:Treattrt</th><th scope=col>Time4:Treattrt</th></tr></thead>\n",
       "<tbody>\n",
       "\t<tr><th scope=row>ENSMUSG00000033845</th><td>-15.05242  </td><td>-0.03549937</td><td>-0.19438317</td><td>-0.24468158</td><td>-0.09785309</td><td> 0.30738823</td><td>-0.17100745</td><td> 0.51846590</td></tr>\n",
       "\t<tr><th scope=row>ENSMUSG00000102275</th><td>-20.93019  </td><td> 0.59870900</td><td> 0.19631848</td><td> 0.09125317</td><td> 0.75222288</td><td>-0.41374446</td><td>-0.39706890</td><td>-2.02989249</td></tr>\n",
       "\t<tr><th scope=row>ENSMUSG00000025903</th><td>-15.51307  </td><td>-1.14614285</td><td>-0.22186479</td><td>-0.37240005</td><td>-0.22232076</td><td> 1.03395951</td><td>-0.35937555</td><td> 1.31643960</td></tr>\n",
       "\t<tr><th scope=row>ENSMUSG00000033813</th><td>-15.35743  </td><td>-0.13436407</td><td>-0.05936527</td><td> 0.05717622</td><td>-0.58933846</td><td>-0.39944218</td><td>-0.96090669</td><td>-1.16215825</td></tr>\n",
       "\t<tr><th scope=row>ENSMUSG00000103280</th><td>-21.56264  </td><td>-0.72120892</td><td>-1.03904392</td><td>-0.63420404</td><td> 0.95232069</td><td> 2.86056802</td><td> 1.81110825</td><td> 3.13829310</td></tr>\n",
       "\t<tr><th scope=row>ENSMUSG00000002459</th><td>-19.92009  </td><td> 0.35632500</td><td> 0.26565630</td><td> 0.19810191</td><td> 0.84704261</td><td> 2.61256087</td><td> 1.20785833</td><td> 2.29837023</td></tr>\n",
       "\t<tr><th scope=row>ENSMUSG00000033793</th><td>-14.08115  </td><td> 0.36141340</td><td>-0.21286574</td><td> 0.04093353</td><td> 0.85770107</td><td> 0.61990040</td><td> 0.69957170</td><td>-0.75117456</td></tr>\n",
       "\t<tr><th scope=row>ENSMUSG00000025907</th><td>-13.07504  </td><td>-0.47231114</td><td>-0.46653396</td><td>-0.45330080</td><td> 0.70875003</td><td> 1.02366340</td><td> 0.63595281</td><td>-2.60524944</td></tr>\n",
       "\t<tr><th scope=row>ENSMUSG00000090031</th><td>-18.59213  </td><td>-0.23625412</td><td> 0.05412794</td><td>-0.07475157</td><td> 1.46867319</td><td> 1.13741811</td><td> 0.72034045</td><td> 2.26769684</td></tr>\n",
       "\t<tr><th scope=row>ENSMUSG00000087247</th><td>-18.25788  </td><td>-0.95526829</td><td>-3.43056966</td><td>-1.02956719</td><td> 1.19795365</td><td> 4.02896265</td><td> 3.32315002</td><td> 2.67261654</td></tr>\n",
       "\t<tr><th scope=row>ENSMUSG00000103845</th><td>-22.10720  </td><td>-0.41291647</td><td>-1.12333201</td><td>-0.29099579</td><td> 0.48315287</td><td> 1.62803809</td><td> 1.75427097</td><td> 1.04271724</td></tr>\n",
       "\t<tr><th scope=row>ENSMUSG00000051285</th><td>-13.27716  </td><td>-0.38943538</td><td> 0.11978074</td><td>-0.23739022</td><td> 0.39355738</td><td>-0.08717029</td><td> 0.12585013</td><td> 0.63741376</td></tr>\n",
       "\t<tr><th scope=row>ENSMUSG00000103509</th><td>-17.89461  </td><td> 0.83006894</td><td> 1.32974717</td><td> 0.91547459</td><td> 0.90921372</td><td>-0.91376300</td><td>-0.52293778</td><td> 0.02237269</td></tr>\n",
       "\t<tr><th scope=row>ENSMUSG00000061024</th><td>-15.05118  </td><td>-0.73642098</td><td>-0.44852695</td><td>-0.51505456</td><td>-0.43741927</td><td> 1.13225572</td><td>-0.23062957</td><td>-0.68538643</td></tr>\n",
       "\t<tr><th scope=row>ENSMUSG00000025911</th><td>-16.95715  </td><td>-0.13693551</td><td> 0.59139566</td><td> 0.16707707</td><td>-0.05574283</td><td>-1.55003242</td><td>-1.82936008</td><td>-0.13771367</td></tr>\n",
       "\t<tr><th scope=row>ENSMUSG00000079671</th><td>-17.83347  </td><td>-0.75733291</td><td> 0.49006705</td><td> 0.12803350</td><td>-0.42196756</td><td> 0.54961909</td><td>-0.37719192</td><td> 0.90953382</td></tr>\n",
       "\t<tr><th scope=row>ENSMUSG00000025912</th><td>-19.02795  </td><td> 0.91957817</td><td> 0.57860341</td><td> 0.64113948</td><td> 1.69515431</td><td> 0.96355974</td><td> 0.71422917</td><td> 2.18933812</td></tr>\n",
       "\t<tr><th scope=row>ENSMUSG00000045210</th><td>-13.83125  </td><td>-0.06203303</td><td>-0.01484960</td><td> 0.09405499</td><td> 0.26487611</td><td> 0.08472591</td><td> 0.02511669</td><td>-2.89570518</td></tr>\n",
       "\t<tr><th scope=row>ENSMUSG00000025915</th><td>-17.04353  </td><td>-0.72283585</td><td>-0.36804956</td><td>-0.48890313</td><td> 0.33040842</td><td> 0.10039138</td><td> 0.25218123</td><td> 1.50110707</td></tr>\n",
       "\t<tr><th scope=row>ENSMUSG00000098234</th><td>-15.55123  </td><td> 0.76770957</td><td> 0.08091112</td><td> 0.42463749</td><td>-0.28700282</td><td>-0.88865639</td><td>-0.63337494</td><td>-0.71466319</td></tr>\n",
       "\t<tr><th scope=row>ENSMUSG00000099032</th><td>-16.56764  </td><td> 0.22803264</td><td> 0.79732951</td><td> 0.20398511</td><td>-2.04645243</td><td>-1.19237789</td><td>-0.93875574</td><td>-0.20573045</td></tr>\n",
       "\t<tr><th scope=row>ENSMUSG00000025917</th><td>-13.64153  </td><td>-0.28128138</td><td>-0.32440003</td><td>-0.20601150</td><td> 0.05376874</td><td> 0.41924776</td><td> 0.18737246</td><td>-0.58844058</td></tr>\n",
       "\t<tr><th scope=row>ENSMUSG00000056763</th><td>-15.10177  </td><td>-0.45642325</td><td> 0.18600213</td><td>-0.22715614</td><td> 0.66083852</td><td> 0.33807426</td><td> 0.09274507</td><td>-0.52237141</td></tr>\n",
       "\t<tr><th scope=row>ENSMUSG00000067851</th><td>-13.06277  </td><td> 0.01557162</td><td>-0.05136406</td><td>-0.03134001</td><td> 0.51416568</td><td> 0.07891363</td><td> 0.07896194</td><td> 0.97550583</td></tr>\n",
       "\t<tr><th scope=row>ENSMUSG00000042501</th><td>-16.03054  </td><td>-0.72927566</td><td>-0.22147160</td><td>-0.15066762</td><td> 0.41593842</td><td> 0.34813226</td><td> 0.46798453</td><td>-0.69852413</td></tr>\n",
       "\t<tr><th scope=row>ENSMUSG00000083422</th><td>-20.93019  </td><td>-0.97280099</td><td>-0.90035986</td><td>-0.54304723</td><td>-0.58496545</td><td> 0.06151597</td><td> 0.02727549</td><td>-2.52485437</td></tr>\n",
       "\t<tr><th scope=row>ENSMUSG00000048960</th><td>-12.26445  </td><td>-0.51783061</td><td> 0.86723469</td><td> 0.35509509</td><td>-2.24175574</td><td>-1.96510290</td><td>-2.15003623</td><td>-1.11583327</td></tr>\n",
       "\t<tr><th scope=row>ENSMUSG00000016918</th><td>-12.63983  </td><td>-0.71683815</td><td>-0.69731518</td><td>-0.42988360</td><td> 1.15310456</td><td> 1.70571414</td><td> 1.39162098</td><td> 1.63118459</td></tr>\n",
       "\t<tr><th scope=row>ENSMUSG00000025938</th><td>-17.48565  </td><td> 1.40162242</td><td>-1.98301125</td><td> 0.45511628</td><td>-1.04656122</td><td>-1.59022758</td><td> 2.59271650</td><td>-4.71649968</td></tr>\n",
       "\t<tr><th scope=row>ENSMUSG00000005886</th><td>-13.11899  </td><td>-0.77560157</td><td>-0.03839742</td><td>-0.23265843</td><td> 0.47773913</td><td> 0.08887176</td><td> 0.02619031</td><td> 1.40102625</td></tr>\n",
       "\t<tr><th scope=row>...</th><td>...</td><td>...</td><td>...</td><td>...</td><td>...</td><td>...</td><td>...</td><td>...</td></tr>\n",
       "\t<tr><th scope=row>ENSMUSG00000031357</th><td>-14.07166   </td><td>-0.11118998 </td><td>-0.10796800 </td><td>-0.240216846</td><td>-0.17310810 </td><td>-0.12530340 </td><td>-0.090704666</td><td> 1.2435746  </td></tr>\n",
       "\t<tr><th scope=row>ENSMUSG00000031360</th><td>-14.76670   </td><td> 0.49209914 </td><td>-0.25297174 </td><td>-0.069543566</td><td> 0.26618600 </td><td>-0.95922654 </td><td> 0.395483805</td><td> 1.2147973  </td></tr>\n",
       "\t<tr><th scope=row>ENSMUSG00000031367</th><td>-15.52338   </td><td>-0.05138354 </td><td>-0.65254953 </td><td>-0.085193071</td><td> 0.56578913 </td><td> 1.09393086 </td><td> 0.565846684</td><td>-0.5908186  </td></tr>\n",
       "\t<tr><th scope=row>ENSMUSG00000031370</th><td>-15.05990   </td><td>-0.02504632 </td><td>-0.25218687 </td><td>-0.106388513</td><td> 0.04090180 </td><td> 0.02399113 </td><td> 0.053466419</td><td>-3.4855102  </td></tr>\n",
       "\t<tr><th scope=row>ENSMUSG00000031373</th><td>-18.84444   </td><td> 1.51759041 </td><td> 0.02085037 </td><td> 0.645784587</td><td> 0.66367635 </td><td>-1.11988926 </td><td> 0.513654795</td><td>-2.3669354  </td></tr>\n",
       "\t<tr><th scope=row>ENSMUSG00000040749</th><td>-18.54937   </td><td>-0.42524658 </td><td>-0.03509542 </td><td>-0.150423485</td><td>-0.70874103 </td><td> 0.61060901 </td><td>-0.258193837</td><td>-3.0472409  </td></tr>\n",
       "\t<tr><th scope=row>ENSMUSG00000031379</th><td>-15.42992   </td><td> 0.22758656 </td><td>-0.28549814 </td><td> 0.109011499</td><td>-0.30356720 </td><td>-2.29249664 </td><td>-0.166156723</td><td>-0.2867227  </td></tr>\n",
       "\t<tr><th scope=row>ENSMUSG00000031380</th><td>-11.72596   </td><td>-1.05963014 </td><td>-0.77853543 </td><td>-0.393441962</td><td>-0.23403898 </td><td>-1.00935845 </td><td> 0.622561447</td><td> 0.5143089  </td></tr>\n",
       "\t<tr><th scope=row>ENSMUSG00000031381</th><td>-17.22231   </td><td> 2.47913820 </td><td> 0.12332657 </td><td> 1.271489187</td><td>-0.50685664 </td><td>-2.19301392 </td><td>-0.413521791</td><td>-1.5703979  </td></tr>\n",
       "\t<tr><th scope=row>ENSMUSG00000061778</th><td>-15.50454   </td><td> 0.61748336 </td><td> 0.14104296 </td><td> 0.091127193</td><td>-0.15826374 </td><td>-0.32701620 </td><td>-0.385130685</td><td>-2.5906054  </td></tr>\n",
       "\t<tr><th scope=row>ENSMUSG00000047757</th><td>-19.43179   </td><td> 0.58339717 </td><td> 0.73271072 </td><td> 0.287115986</td><td>-0.70525769 </td><td>-0.10281831 </td><td>-1.278734560</td><td>-0.4150123  </td></tr>\n",
       "\t<tr><th scope=row>ENSMUSG00000040621</th><td>-17.09385   </td><td>-0.57146941 </td><td> 0.17929892 </td><td> 0.031568903</td><td> 0.13544800 </td><td>-0.54623785 </td><td>-0.078618179</td><td> 0.1440248  </td></tr>\n",
       "\t<tr><th scope=row>ENSMUSG00000031342</th><td>-12.61596   </td><td>-0.62215321 </td><td> 0.03942965 </td><td>-0.170286321</td><td> 0.46293225 </td><td>-0.02665394 </td><td> 0.412146214</td><td>-3.3870938  </td></tr>\n",
       "\t<tr><th scope=row>ENSMUSG00000040586</th><td>-15.13432   </td><td>-0.55755107 </td><td>-0.23424842 </td><td>-0.252050744</td><td> 0.06807786 </td><td> 0.21888574 </td><td> 0.108630541</td><td> 1.3116949  </td></tr>\n",
       "\t<tr><th scope=row>ENSMUSG00000079317</th><td>-18.10556   </td><td>-0.34104810 </td><td>-0.16854859 </td><td>-0.322010928</td><td> 0.24098657 </td><td> 0.73020480 </td><td> 0.943434299</td><td> 1.4859083  </td></tr>\n",
       "\t<tr><th scope=row>ENSMUSG00000079316</th><td>-14.53526   </td><td> 0.25557206 </td><td>-0.20367971 </td><td> 0.003992788</td><td> 0.64788186 </td><td>-0.64409851 </td><td> 0.949063138</td><td>-1.2492626  </td></tr>\n",
       "\t<tr><th scope=row>ENSMUSG00000051224</th><td>-17.09385   </td><td> 0.37604343 </td><td> 0.39058210 </td><td> 0.372969652</td><td> 0.07632336 </td><td>-0.98158917 </td><td>-0.192924127</td><td>-0.8592212  </td></tr>\n",
       "\t<tr><th scope=row>ENSMUSG00000000402</th><td>-16.16127   </td><td>-1.07055101 </td><td>-0.70465168 </td><td>-0.513902311</td><td> 2.65149265 </td><td> 0.17085616 </td><td> 2.338064081</td><td> 3.4145692  </td></tr>\n",
       "\t<tr><th scope=row>ENSMUSG00000049775</th><td>-11.85780   </td><td>-0.43101216 </td><td>-0.52323562 </td><td>-0.168653662</td><td>-0.02062741 </td><td> 1.23538373 </td><td> 0.656269863</td><td> 1.7002719  </td></tr>\n",
       "\t<tr><th scope=row>ENSMUSG00000025742</th><td>-15.46923   </td><td>-0.39266832 </td><td> 0.06638293 </td><td>-0.106513166</td><td> 0.55874193 </td><td> 0.19592874 </td><td> 0.397222648</td><td> 1.5973199  </td></tr>\n",
       "\t<tr><th scope=row>ENSMUSG00000031358</th><td>-14.50005   </td><td> 0.16587352 </td><td> 0.02366335 </td><td> 0.179406104</td><td>-0.23319867 </td><td>-0.43854927 </td><td>-0.102914569</td><td>-3.1486247  </td></tr>\n",
       "\t<tr><th scope=row>ENSMUSG00000031355</th><td>-16.59637   </td><td> 0.49443559 </td><td> 0.41151601 </td><td> 0.423845494</td><td>-0.50724705 </td><td>-1.56404519 </td><td>-1.542988371</td><td>-0.1534450  </td></tr>\n",
       "\t<tr><th scope=row>ENSMUSG00000031352</th><td>-15.24512   </td><td>-0.52329876 </td><td>-0.53868024 </td><td>-0.336369856</td><td>-0.28592844 </td><td> 0.47681737 </td><td> 0.005416002</td><td>-0.5918546  </td></tr>\n",
       "\t<tr><th scope=row>ENSMUSG00000087159</th><td>-21.35201   </td><td>-1.16810571 </td><td> 0.68632122 </td><td> 0.185203232</td><td> 0.79663822 </td><td>-0.37206188 </td><td>-0.124892832</td><td>-1.9124471  </td></tr>\n",
       "\t<tr><th scope=row>ENSMUSG00000081137</th><td>-19.53926   </td><td>-0.97189875 </td><td>-0.29064370 </td><td>-0.524427109</td><td> 0.55961294 </td><td>-0.72884996 </td><td>-0.080471387</td><td> 1.5036507  </td></tr>\n",
       "\t<tr><th scope=row>ENSMUSG00000035299</th><td>-14.42083   </td><td>-2.10353783 </td><td>-0.16453302 </td><td>-0.341850549</td><td>-0.73709615 </td><td> 0.67124899 </td><td>-0.737580132</td><td>-6.6872631  </td></tr>\n",
       "\t<tr><th scope=row>ENSMUSG00000055357</th><td>-21.45348   </td><td>-0.01866129 </td><td> 1.14055422 </td><td> 0.286680465</td><td> 0.59966882 </td><td> 0.02062771 </td><td>-1.372910505</td><td> 0.2428154  </td></tr>\n",
       "\t<tr><th scope=row>ENSMUSG00000072844</th><td>-19.56742   </td><td>-1.38841116 </td><td> 0.12752030 </td><td>-0.121150130</td><td>-0.93500766 </td><td> 0.57834400 </td><td>-0.887798606</td><td>-0.7873020  </td></tr>\n",
       "\t<tr><th scope=row>ENSMUSG00000087263</th><td>-21.56264   </td><td>-1.59204929 </td><td> 0.42902958 </td><td>-0.158307705</td><td>-0.06140042 </td><td>-0.08544201 </td><td>-2.306577715</td><td>-0.4805922  </td></tr>\n",
       "\t<tr><th scope=row>ENSMUSG00000096768</th><td>-17.22231   </td><td> 0.11623036 </td><td>-0.48241158 </td><td> 0.013762611</td><td>-0.52214311 </td><td> 0.46602642 </td><td> 0.095264295</td><td>-3.3972656  </td></tr>\n",
       "</tbody>\n",
       "</table>\n"
      ],
      "text/latex": [
       "\\begin{tabular}{r|llllllll}\n",
       "  & (Intercept) & Time2 & Time3 & Time4 & Time1:Treattrt & Time2:Treattrt & Time3:Treattrt & Time4:Treattrt\\\\\n",
       "\\hline\n",
       "\tENSMUSG00000033845 & -15.05242   & -0.03549937 & -0.19438317 & -0.24468158 & -0.09785309 &  0.30738823 & -0.17100745 &  0.51846590\\\\\n",
       "\tENSMUSG00000102275 & -20.93019   &  0.59870900 &  0.19631848 &  0.09125317 &  0.75222288 & -0.41374446 & -0.39706890 & -2.02989249\\\\\n",
       "\tENSMUSG00000025903 & -15.51307   & -1.14614285 & -0.22186479 & -0.37240005 & -0.22232076 &  1.03395951 & -0.35937555 &  1.31643960\\\\\n",
       "\tENSMUSG00000033813 & -15.35743   & -0.13436407 & -0.05936527 &  0.05717622 & -0.58933846 & -0.39944218 & -0.96090669 & -1.16215825\\\\\n",
       "\tENSMUSG00000103280 & -21.56264   & -0.72120892 & -1.03904392 & -0.63420404 &  0.95232069 &  2.86056802 &  1.81110825 &  3.13829310\\\\\n",
       "\tENSMUSG00000002459 & -19.92009   &  0.35632500 &  0.26565630 &  0.19810191 &  0.84704261 &  2.61256087 &  1.20785833 &  2.29837023\\\\\n",
       "\tENSMUSG00000033793 & -14.08115   &  0.36141340 & -0.21286574 &  0.04093353 &  0.85770107 &  0.61990040 &  0.69957170 & -0.75117456\\\\\n",
       "\tENSMUSG00000025907 & -13.07504   & -0.47231114 & -0.46653396 & -0.45330080 &  0.70875003 &  1.02366340 &  0.63595281 & -2.60524944\\\\\n",
       "\tENSMUSG00000090031 & -18.59213   & -0.23625412 &  0.05412794 & -0.07475157 &  1.46867319 &  1.13741811 &  0.72034045 &  2.26769684\\\\\n",
       "\tENSMUSG00000087247 & -18.25788   & -0.95526829 & -3.43056966 & -1.02956719 &  1.19795365 &  4.02896265 &  3.32315002 &  2.67261654\\\\\n",
       "\tENSMUSG00000103845 & -22.10720   & -0.41291647 & -1.12333201 & -0.29099579 &  0.48315287 &  1.62803809 &  1.75427097 &  1.04271724\\\\\n",
       "\tENSMUSG00000051285 & -13.27716   & -0.38943538 &  0.11978074 & -0.23739022 &  0.39355738 & -0.08717029 &  0.12585013 &  0.63741376\\\\\n",
       "\tENSMUSG00000103509 & -17.89461   &  0.83006894 &  1.32974717 &  0.91547459 &  0.90921372 & -0.91376300 & -0.52293778 &  0.02237269\\\\\n",
       "\tENSMUSG00000061024 & -15.05118   & -0.73642098 & -0.44852695 & -0.51505456 & -0.43741927 &  1.13225572 & -0.23062957 & -0.68538643\\\\\n",
       "\tENSMUSG00000025911 & -16.95715   & -0.13693551 &  0.59139566 &  0.16707707 & -0.05574283 & -1.55003242 & -1.82936008 & -0.13771367\\\\\n",
       "\tENSMUSG00000079671 & -17.83347   & -0.75733291 &  0.49006705 &  0.12803350 & -0.42196756 &  0.54961909 & -0.37719192 &  0.90953382\\\\\n",
       "\tENSMUSG00000025912 & -19.02795   &  0.91957817 &  0.57860341 &  0.64113948 &  1.69515431 &  0.96355974 &  0.71422917 &  2.18933812\\\\\n",
       "\tENSMUSG00000045210 & -13.83125   & -0.06203303 & -0.01484960 &  0.09405499 &  0.26487611 &  0.08472591 &  0.02511669 & -2.89570518\\\\\n",
       "\tENSMUSG00000025915 & -17.04353   & -0.72283585 & -0.36804956 & -0.48890313 &  0.33040842 &  0.10039138 &  0.25218123 &  1.50110707\\\\\n",
       "\tENSMUSG00000098234 & -15.55123   &  0.76770957 &  0.08091112 &  0.42463749 & -0.28700282 & -0.88865639 & -0.63337494 & -0.71466319\\\\\n",
       "\tENSMUSG00000099032 & -16.56764   &  0.22803264 &  0.79732951 &  0.20398511 & -2.04645243 & -1.19237789 & -0.93875574 & -0.20573045\\\\\n",
       "\tENSMUSG00000025917 & -13.64153   & -0.28128138 & -0.32440003 & -0.20601150 &  0.05376874 &  0.41924776 &  0.18737246 & -0.58844058\\\\\n",
       "\tENSMUSG00000056763 & -15.10177   & -0.45642325 &  0.18600213 & -0.22715614 &  0.66083852 &  0.33807426 &  0.09274507 & -0.52237141\\\\\n",
       "\tENSMUSG00000067851 & -13.06277   &  0.01557162 & -0.05136406 & -0.03134001 &  0.51416568 &  0.07891363 &  0.07896194 &  0.97550583\\\\\n",
       "\tENSMUSG00000042501 & -16.03054   & -0.72927566 & -0.22147160 & -0.15066762 &  0.41593842 &  0.34813226 &  0.46798453 & -0.69852413\\\\\n",
       "\tENSMUSG00000083422 & -20.93019   & -0.97280099 & -0.90035986 & -0.54304723 & -0.58496545 &  0.06151597 &  0.02727549 & -2.52485437\\\\\n",
       "\tENSMUSG00000048960 & -12.26445   & -0.51783061 &  0.86723469 &  0.35509509 & -2.24175574 & -1.96510290 & -2.15003623 & -1.11583327\\\\\n",
       "\tENSMUSG00000016918 & -12.63983   & -0.71683815 & -0.69731518 & -0.42988360 &  1.15310456 &  1.70571414 &  1.39162098 &  1.63118459\\\\\n",
       "\tENSMUSG00000025938 & -17.48565   &  1.40162242 & -1.98301125 &  0.45511628 & -1.04656122 & -1.59022758 &  2.59271650 & -4.71649968\\\\\n",
       "\tENSMUSG00000005886 & -13.11899   & -0.77560157 & -0.03839742 & -0.23265843 &  0.47773913 &  0.08887176 &  0.02619031 &  1.40102625\\\\\n",
       "\t... & ... & ... & ... & ... & ... & ... & ... & ...\\\\\n",
       "\tENSMUSG00000031357 & -14.07166    & -0.11118998  & -0.10796800  & -0.240216846 & -0.17310810  & -0.12530340  & -0.090704666 &  1.2435746  \\\\\n",
       "\tENSMUSG00000031360 & -14.76670    &  0.49209914  & -0.25297174  & -0.069543566 &  0.26618600  & -0.95922654  &  0.395483805 &  1.2147973  \\\\\n",
       "\tENSMUSG00000031367 & -15.52338    & -0.05138354  & -0.65254953  & -0.085193071 &  0.56578913  &  1.09393086  &  0.565846684 & -0.5908186  \\\\\n",
       "\tENSMUSG00000031370 & -15.05990    & -0.02504632  & -0.25218687  & -0.106388513 &  0.04090180  &  0.02399113  &  0.053466419 & -3.4855102  \\\\\n",
       "\tENSMUSG00000031373 & -18.84444    &  1.51759041  &  0.02085037  &  0.645784587 &  0.66367635  & -1.11988926  &  0.513654795 & -2.3669354  \\\\\n",
       "\tENSMUSG00000040749 & -18.54937    & -0.42524658  & -0.03509542  & -0.150423485 & -0.70874103  &  0.61060901  & -0.258193837 & -3.0472409  \\\\\n",
       "\tENSMUSG00000031379 & -15.42992    &  0.22758656  & -0.28549814  &  0.109011499 & -0.30356720  & -2.29249664  & -0.166156723 & -0.2867227  \\\\\n",
       "\tENSMUSG00000031380 & -11.72596    & -1.05963014  & -0.77853543  & -0.393441962 & -0.23403898  & -1.00935845  &  0.622561447 &  0.5143089  \\\\\n",
       "\tENSMUSG00000031381 & -17.22231    &  2.47913820  &  0.12332657  &  1.271489187 & -0.50685664  & -2.19301392  & -0.413521791 & -1.5703979  \\\\\n",
       "\tENSMUSG00000061778 & -15.50454    &  0.61748336  &  0.14104296  &  0.091127193 & -0.15826374  & -0.32701620  & -0.385130685 & -2.5906054  \\\\\n",
       "\tENSMUSG00000047757 & -19.43179    &  0.58339717  &  0.73271072  &  0.287115986 & -0.70525769  & -0.10281831  & -1.278734560 & -0.4150123  \\\\\n",
       "\tENSMUSG00000040621 & -17.09385    & -0.57146941  &  0.17929892  &  0.031568903 &  0.13544800  & -0.54623785  & -0.078618179 &  0.1440248  \\\\\n",
       "\tENSMUSG00000031342 & -12.61596    & -0.62215321  &  0.03942965  & -0.170286321 &  0.46293225  & -0.02665394  &  0.412146214 & -3.3870938  \\\\\n",
       "\tENSMUSG00000040586 & -15.13432    & -0.55755107  & -0.23424842  & -0.252050744 &  0.06807786  &  0.21888574  &  0.108630541 &  1.3116949  \\\\\n",
       "\tENSMUSG00000079317 & -18.10556    & -0.34104810  & -0.16854859  & -0.322010928 &  0.24098657  &  0.73020480  &  0.943434299 &  1.4859083  \\\\\n",
       "\tENSMUSG00000079316 & -14.53526    &  0.25557206  & -0.20367971  &  0.003992788 &  0.64788186  & -0.64409851  &  0.949063138 & -1.2492626  \\\\\n",
       "\tENSMUSG00000051224 & -17.09385    &  0.37604343  &  0.39058210  &  0.372969652 &  0.07632336  & -0.98158917  & -0.192924127 & -0.8592212  \\\\\n",
       "\tENSMUSG00000000402 & -16.16127    & -1.07055101  & -0.70465168  & -0.513902311 &  2.65149265  &  0.17085616  &  2.338064081 &  3.4145692  \\\\\n",
       "\tENSMUSG00000049775 & -11.85780    & -0.43101216  & -0.52323562  & -0.168653662 & -0.02062741  &  1.23538373  &  0.656269863 &  1.7002719  \\\\\n",
       "\tENSMUSG00000025742 & -15.46923    & -0.39266832  &  0.06638293  & -0.106513166 &  0.55874193  &  0.19592874  &  0.397222648 &  1.5973199  \\\\\n",
       "\tENSMUSG00000031358 & -14.50005    &  0.16587352  &  0.02366335  &  0.179406104 & -0.23319867  & -0.43854927  & -0.102914569 & -3.1486247  \\\\\n",
       "\tENSMUSG00000031355 & -16.59637    &  0.49443559  &  0.41151601  &  0.423845494 & -0.50724705  & -1.56404519  & -1.542988371 & -0.1534450  \\\\\n",
       "\tENSMUSG00000031352 & -15.24512    & -0.52329876  & -0.53868024  & -0.336369856 & -0.28592844  &  0.47681737  &  0.005416002 & -0.5918546  \\\\\n",
       "\tENSMUSG00000087159 & -21.35201    & -1.16810571  &  0.68632122  &  0.185203232 &  0.79663822  & -0.37206188  & -0.124892832 & -1.9124471  \\\\\n",
       "\tENSMUSG00000081137 & -19.53926    & -0.97189875  & -0.29064370  & -0.524427109 &  0.55961294  & -0.72884996  & -0.080471387 &  1.5036507  \\\\\n",
       "\tENSMUSG00000035299 & -14.42083    & -2.10353783  & -0.16453302  & -0.341850549 & -0.73709615  &  0.67124899  & -0.737580132 & -6.6872631  \\\\\n",
       "\tENSMUSG00000055357 & -21.45348    & -0.01866129  &  1.14055422  &  0.286680465 &  0.59966882  &  0.02062771  & -1.372910505 &  0.2428154  \\\\\n",
       "\tENSMUSG00000072844 & -19.56742    & -1.38841116  &  0.12752030  & -0.121150130 & -0.93500766  &  0.57834400  & -0.887798606 & -0.7873020  \\\\\n",
       "\tENSMUSG00000087263 & -21.56264    & -1.59204929  &  0.42902958  & -0.158307705 & -0.06140042  & -0.08544201  & -2.306577715 & -0.4805922  \\\\\n",
       "\tENSMUSG00000096768 & -17.22231    &  0.11623036  & -0.48241158  &  0.013762611 & -0.52214311  &  0.46602642  &  0.095264295 & -3.3972656  \\\\\n",
       "\\end{tabular}\n"
      ],
      "text/markdown": [
       "\n",
       "| <!--/--> | (Intercept) | Time2 | Time3 | Time4 | Time1:Treattrt | Time2:Treattrt | Time3:Treattrt | Time4:Treattrt |\n",
       "|---|---|---|---|---|---|---|---|---|\n",
       "| ENSMUSG00000033845 | -15.05242   | -0.03549937 | -0.19438317 | -0.24468158 | -0.09785309 |  0.30738823 | -0.17100745 |  0.51846590 |\n",
       "| ENSMUSG00000102275 | -20.93019   |  0.59870900 |  0.19631848 |  0.09125317 |  0.75222288 | -0.41374446 | -0.39706890 | -2.02989249 |\n",
       "| ENSMUSG00000025903 | -15.51307   | -1.14614285 | -0.22186479 | -0.37240005 | -0.22232076 |  1.03395951 | -0.35937555 |  1.31643960 |\n",
       "| ENSMUSG00000033813 | -15.35743   | -0.13436407 | -0.05936527 |  0.05717622 | -0.58933846 | -0.39944218 | -0.96090669 | -1.16215825 |\n",
       "| ENSMUSG00000103280 | -21.56264   | -0.72120892 | -1.03904392 | -0.63420404 |  0.95232069 |  2.86056802 |  1.81110825 |  3.13829310 |\n",
       "| ENSMUSG00000002459 | -19.92009   |  0.35632500 |  0.26565630 |  0.19810191 |  0.84704261 |  2.61256087 |  1.20785833 |  2.29837023 |\n",
       "| ENSMUSG00000033793 | -14.08115   |  0.36141340 | -0.21286574 |  0.04093353 |  0.85770107 |  0.61990040 |  0.69957170 | -0.75117456 |\n",
       "| ENSMUSG00000025907 | -13.07504   | -0.47231114 | -0.46653396 | -0.45330080 |  0.70875003 |  1.02366340 |  0.63595281 | -2.60524944 |\n",
       "| ENSMUSG00000090031 | -18.59213   | -0.23625412 |  0.05412794 | -0.07475157 |  1.46867319 |  1.13741811 |  0.72034045 |  2.26769684 |\n",
       "| ENSMUSG00000087247 | -18.25788   | -0.95526829 | -3.43056966 | -1.02956719 |  1.19795365 |  4.02896265 |  3.32315002 |  2.67261654 |\n",
       "| ENSMUSG00000103845 | -22.10720   | -0.41291647 | -1.12333201 | -0.29099579 |  0.48315287 |  1.62803809 |  1.75427097 |  1.04271724 |\n",
       "| ENSMUSG00000051285 | -13.27716   | -0.38943538 |  0.11978074 | -0.23739022 |  0.39355738 | -0.08717029 |  0.12585013 |  0.63741376 |\n",
       "| ENSMUSG00000103509 | -17.89461   |  0.83006894 |  1.32974717 |  0.91547459 |  0.90921372 | -0.91376300 | -0.52293778 |  0.02237269 |\n",
       "| ENSMUSG00000061024 | -15.05118   | -0.73642098 | -0.44852695 | -0.51505456 | -0.43741927 |  1.13225572 | -0.23062957 | -0.68538643 |\n",
       "| ENSMUSG00000025911 | -16.95715   | -0.13693551 |  0.59139566 |  0.16707707 | -0.05574283 | -1.55003242 | -1.82936008 | -0.13771367 |\n",
       "| ENSMUSG00000079671 | -17.83347   | -0.75733291 |  0.49006705 |  0.12803350 | -0.42196756 |  0.54961909 | -0.37719192 |  0.90953382 |\n",
       "| ENSMUSG00000025912 | -19.02795   |  0.91957817 |  0.57860341 |  0.64113948 |  1.69515431 |  0.96355974 |  0.71422917 |  2.18933812 |\n",
       "| ENSMUSG00000045210 | -13.83125   | -0.06203303 | -0.01484960 |  0.09405499 |  0.26487611 |  0.08472591 |  0.02511669 | -2.89570518 |\n",
       "| ENSMUSG00000025915 | -17.04353   | -0.72283585 | -0.36804956 | -0.48890313 |  0.33040842 |  0.10039138 |  0.25218123 |  1.50110707 |\n",
       "| ENSMUSG00000098234 | -15.55123   |  0.76770957 |  0.08091112 |  0.42463749 | -0.28700282 | -0.88865639 | -0.63337494 | -0.71466319 |\n",
       "| ENSMUSG00000099032 | -16.56764   |  0.22803264 |  0.79732951 |  0.20398511 | -2.04645243 | -1.19237789 | -0.93875574 | -0.20573045 |\n",
       "| ENSMUSG00000025917 | -13.64153   | -0.28128138 | -0.32440003 | -0.20601150 |  0.05376874 |  0.41924776 |  0.18737246 | -0.58844058 |\n",
       "| ENSMUSG00000056763 | -15.10177   | -0.45642325 |  0.18600213 | -0.22715614 |  0.66083852 |  0.33807426 |  0.09274507 | -0.52237141 |\n",
       "| ENSMUSG00000067851 | -13.06277   |  0.01557162 | -0.05136406 | -0.03134001 |  0.51416568 |  0.07891363 |  0.07896194 |  0.97550583 |\n",
       "| ENSMUSG00000042501 | -16.03054   | -0.72927566 | -0.22147160 | -0.15066762 |  0.41593842 |  0.34813226 |  0.46798453 | -0.69852413 |\n",
       "| ENSMUSG00000083422 | -20.93019   | -0.97280099 | -0.90035986 | -0.54304723 | -0.58496545 |  0.06151597 |  0.02727549 | -2.52485437 |\n",
       "| ENSMUSG00000048960 | -12.26445   | -0.51783061 |  0.86723469 |  0.35509509 | -2.24175574 | -1.96510290 | -2.15003623 | -1.11583327 |\n",
       "| ENSMUSG00000016918 | -12.63983   | -0.71683815 | -0.69731518 | -0.42988360 |  1.15310456 |  1.70571414 |  1.39162098 |  1.63118459 |\n",
       "| ENSMUSG00000025938 | -17.48565   |  1.40162242 | -1.98301125 |  0.45511628 | -1.04656122 | -1.59022758 |  2.59271650 | -4.71649968 |\n",
       "| ENSMUSG00000005886 | -13.11899   | -0.77560157 | -0.03839742 | -0.23265843 |  0.47773913 |  0.08887176 |  0.02619031 |  1.40102625 |\n",
       "| ... | ... | ... | ... | ... | ... | ... | ... | ... |\n",
       "| ENSMUSG00000031357 | -14.07166    | -0.11118998  | -0.10796800  | -0.240216846 | -0.17310810  | -0.12530340  | -0.090704666 |  1.2435746   |\n",
       "| ENSMUSG00000031360 | -14.76670    |  0.49209914  | -0.25297174  | -0.069543566 |  0.26618600  | -0.95922654  |  0.395483805 |  1.2147973   |\n",
       "| ENSMUSG00000031367 | -15.52338    | -0.05138354  | -0.65254953  | -0.085193071 |  0.56578913  |  1.09393086  |  0.565846684 | -0.5908186   |\n",
       "| ENSMUSG00000031370 | -15.05990    | -0.02504632  | -0.25218687  | -0.106388513 |  0.04090180  |  0.02399113  |  0.053466419 | -3.4855102   |\n",
       "| ENSMUSG00000031373 | -18.84444    |  1.51759041  |  0.02085037  |  0.645784587 |  0.66367635  | -1.11988926  |  0.513654795 | -2.3669354   |\n",
       "| ENSMUSG00000040749 | -18.54937    | -0.42524658  | -0.03509542  | -0.150423485 | -0.70874103  |  0.61060901  | -0.258193837 | -3.0472409   |\n",
       "| ENSMUSG00000031379 | -15.42992    |  0.22758656  | -0.28549814  |  0.109011499 | -0.30356720  | -2.29249664  | -0.166156723 | -0.2867227   |\n",
       "| ENSMUSG00000031380 | -11.72596    | -1.05963014  | -0.77853543  | -0.393441962 | -0.23403898  | -1.00935845  |  0.622561447 |  0.5143089   |\n",
       "| ENSMUSG00000031381 | -17.22231    |  2.47913820  |  0.12332657  |  1.271489187 | -0.50685664  | -2.19301392  | -0.413521791 | -1.5703979   |\n",
       "| ENSMUSG00000061778 | -15.50454    |  0.61748336  |  0.14104296  |  0.091127193 | -0.15826374  | -0.32701620  | -0.385130685 | -2.5906054   |\n",
       "| ENSMUSG00000047757 | -19.43179    |  0.58339717  |  0.73271072  |  0.287115986 | -0.70525769  | -0.10281831  | -1.278734560 | -0.4150123   |\n",
       "| ENSMUSG00000040621 | -17.09385    | -0.57146941  |  0.17929892  |  0.031568903 |  0.13544800  | -0.54623785  | -0.078618179 |  0.1440248   |\n",
       "| ENSMUSG00000031342 | -12.61596    | -0.62215321  |  0.03942965  | -0.170286321 |  0.46293225  | -0.02665394  |  0.412146214 | -3.3870938   |\n",
       "| ENSMUSG00000040586 | -15.13432    | -0.55755107  | -0.23424842  | -0.252050744 |  0.06807786  |  0.21888574  |  0.108630541 |  1.3116949   |\n",
       "| ENSMUSG00000079317 | -18.10556    | -0.34104810  | -0.16854859  | -0.322010928 |  0.24098657  |  0.73020480  |  0.943434299 |  1.4859083   |\n",
       "| ENSMUSG00000079316 | -14.53526    |  0.25557206  | -0.20367971  |  0.003992788 |  0.64788186  | -0.64409851  |  0.949063138 | -1.2492626   |\n",
       "| ENSMUSG00000051224 | -17.09385    |  0.37604343  |  0.39058210  |  0.372969652 |  0.07632336  | -0.98158917  | -0.192924127 | -0.8592212   |\n",
       "| ENSMUSG00000000402 | -16.16127    | -1.07055101  | -0.70465168  | -0.513902311 |  2.65149265  |  0.17085616  |  2.338064081 |  3.4145692   |\n",
       "| ENSMUSG00000049775 | -11.85780    | -0.43101216  | -0.52323562  | -0.168653662 | -0.02062741  |  1.23538373  |  0.656269863 |  1.7002719   |\n",
       "| ENSMUSG00000025742 | -15.46923    | -0.39266832  |  0.06638293  | -0.106513166 |  0.55874193  |  0.19592874  |  0.397222648 |  1.5973199   |\n",
       "| ENSMUSG00000031358 | -14.50005    |  0.16587352  |  0.02366335  |  0.179406104 | -0.23319867  | -0.43854927  | -0.102914569 | -3.1486247   |\n",
       "| ENSMUSG00000031355 | -16.59637    |  0.49443559  |  0.41151601  |  0.423845494 | -0.50724705  | -1.56404519  | -1.542988371 | -0.1534450   |\n",
       "| ENSMUSG00000031352 | -15.24512    | -0.52329876  | -0.53868024  | -0.336369856 | -0.28592844  |  0.47681737  |  0.005416002 | -0.5918546   |\n",
       "| ENSMUSG00000087159 | -21.35201    | -1.16810571  |  0.68632122  |  0.185203232 |  0.79663822  | -0.37206188  | -0.124892832 | -1.9124471   |\n",
       "| ENSMUSG00000081137 | -19.53926    | -0.97189875  | -0.29064370  | -0.524427109 |  0.55961294  | -0.72884996  | -0.080471387 |  1.5036507   |\n",
       "| ENSMUSG00000035299 | -14.42083    | -2.10353783  | -0.16453302  | -0.341850549 | -0.73709615  |  0.67124899  | -0.737580132 | -6.6872631   |\n",
       "| ENSMUSG00000055357 | -21.45348    | -0.01866129  |  1.14055422  |  0.286680465 |  0.59966882  |  0.02062771  | -1.372910505 |  0.2428154   |\n",
       "| ENSMUSG00000072844 | -19.56742    | -1.38841116  |  0.12752030  | -0.121150130 | -0.93500766  |  0.57834400  | -0.887798606 | -0.7873020   |\n",
       "| ENSMUSG00000087263 | -21.56264    | -1.59204929  |  0.42902958  | -0.158307705 | -0.06140042  | -0.08544201  | -2.306577715 | -0.4805922   |\n",
       "| ENSMUSG00000096768 | -17.22231    |  0.11623036  | -0.48241158  |  0.013762611 | -0.52214311  |  0.46602642  |  0.095264295 | -3.3972656   |\n",
       "\n"
      ],
      "text/plain": [
       "                   (Intercept) Time2       Time3       Time4       \n",
       "ENSMUSG00000033845 -15.05242   -0.03549937 -0.19438317 -0.24468158 \n",
       "ENSMUSG00000102275 -20.93019    0.59870900  0.19631848  0.09125317 \n",
       "ENSMUSG00000025903 -15.51307   -1.14614285 -0.22186479 -0.37240005 \n",
       "ENSMUSG00000033813 -15.35743   -0.13436407 -0.05936527  0.05717622 \n",
       "ENSMUSG00000103280 -21.56264   -0.72120892 -1.03904392 -0.63420404 \n",
       "ENSMUSG00000002459 -19.92009    0.35632500  0.26565630  0.19810191 \n",
       "ENSMUSG00000033793 -14.08115    0.36141340 -0.21286574  0.04093353 \n",
       "ENSMUSG00000025907 -13.07504   -0.47231114 -0.46653396 -0.45330080 \n",
       "ENSMUSG00000090031 -18.59213   -0.23625412  0.05412794 -0.07475157 \n",
       "ENSMUSG00000087247 -18.25788   -0.95526829 -3.43056966 -1.02956719 \n",
       "ENSMUSG00000103845 -22.10720   -0.41291647 -1.12333201 -0.29099579 \n",
       "ENSMUSG00000051285 -13.27716   -0.38943538  0.11978074 -0.23739022 \n",
       "ENSMUSG00000103509 -17.89461    0.83006894  1.32974717  0.91547459 \n",
       "ENSMUSG00000061024 -15.05118   -0.73642098 -0.44852695 -0.51505456 \n",
       "ENSMUSG00000025911 -16.95715   -0.13693551  0.59139566  0.16707707 \n",
       "ENSMUSG00000079671 -17.83347   -0.75733291  0.49006705  0.12803350 \n",
       "ENSMUSG00000025912 -19.02795    0.91957817  0.57860341  0.64113948 \n",
       "ENSMUSG00000045210 -13.83125   -0.06203303 -0.01484960  0.09405499 \n",
       "ENSMUSG00000025915 -17.04353   -0.72283585 -0.36804956 -0.48890313 \n",
       "ENSMUSG00000098234 -15.55123    0.76770957  0.08091112  0.42463749 \n",
       "ENSMUSG00000099032 -16.56764    0.22803264  0.79732951  0.20398511 \n",
       "ENSMUSG00000025917 -13.64153   -0.28128138 -0.32440003 -0.20601150 \n",
       "ENSMUSG00000056763 -15.10177   -0.45642325  0.18600213 -0.22715614 \n",
       "ENSMUSG00000067851 -13.06277    0.01557162 -0.05136406 -0.03134001 \n",
       "ENSMUSG00000042501 -16.03054   -0.72927566 -0.22147160 -0.15066762 \n",
       "ENSMUSG00000083422 -20.93019   -0.97280099 -0.90035986 -0.54304723 \n",
       "ENSMUSG00000048960 -12.26445   -0.51783061  0.86723469  0.35509509 \n",
       "ENSMUSG00000016918 -12.63983   -0.71683815 -0.69731518 -0.42988360 \n",
       "ENSMUSG00000025938 -17.48565    1.40162242 -1.98301125  0.45511628 \n",
       "ENSMUSG00000005886 -13.11899   -0.77560157 -0.03839742 -0.23265843 \n",
       "...                ...         ...         ...         ...         \n",
       "ENSMUSG00000031357 -14.07166   -0.11118998 -0.10796800 -0.240216846\n",
       "ENSMUSG00000031360 -14.76670    0.49209914 -0.25297174 -0.069543566\n",
       "ENSMUSG00000031367 -15.52338   -0.05138354 -0.65254953 -0.085193071\n",
       "ENSMUSG00000031370 -15.05990   -0.02504632 -0.25218687 -0.106388513\n",
       "ENSMUSG00000031373 -18.84444    1.51759041  0.02085037  0.645784587\n",
       "ENSMUSG00000040749 -18.54937   -0.42524658 -0.03509542 -0.150423485\n",
       "ENSMUSG00000031379 -15.42992    0.22758656 -0.28549814  0.109011499\n",
       "ENSMUSG00000031380 -11.72596   -1.05963014 -0.77853543 -0.393441962\n",
       "ENSMUSG00000031381 -17.22231    2.47913820  0.12332657  1.271489187\n",
       "ENSMUSG00000061778 -15.50454    0.61748336  0.14104296  0.091127193\n",
       "ENSMUSG00000047757 -19.43179    0.58339717  0.73271072  0.287115986\n",
       "ENSMUSG00000040621 -17.09385   -0.57146941  0.17929892  0.031568903\n",
       "ENSMUSG00000031342 -12.61596   -0.62215321  0.03942965 -0.170286321\n",
       "ENSMUSG00000040586 -15.13432   -0.55755107 -0.23424842 -0.252050744\n",
       "ENSMUSG00000079317 -18.10556   -0.34104810 -0.16854859 -0.322010928\n",
       "ENSMUSG00000079316 -14.53526    0.25557206 -0.20367971  0.003992788\n",
       "ENSMUSG00000051224 -17.09385    0.37604343  0.39058210  0.372969652\n",
       "ENSMUSG00000000402 -16.16127   -1.07055101 -0.70465168 -0.513902311\n",
       "ENSMUSG00000049775 -11.85780   -0.43101216 -0.52323562 -0.168653662\n",
       "ENSMUSG00000025742 -15.46923   -0.39266832  0.06638293 -0.106513166\n",
       "ENSMUSG00000031358 -14.50005    0.16587352  0.02366335  0.179406104\n",
       "ENSMUSG00000031355 -16.59637    0.49443559  0.41151601  0.423845494\n",
       "ENSMUSG00000031352 -15.24512   -0.52329876 -0.53868024 -0.336369856\n",
       "ENSMUSG00000087159 -21.35201   -1.16810571  0.68632122  0.185203232\n",
       "ENSMUSG00000081137 -19.53926   -0.97189875 -0.29064370 -0.524427109\n",
       "ENSMUSG00000035299 -14.42083   -2.10353783 -0.16453302 -0.341850549\n",
       "ENSMUSG00000055357 -21.45348   -0.01866129  1.14055422  0.286680465\n",
       "ENSMUSG00000072844 -19.56742   -1.38841116  0.12752030 -0.121150130\n",
       "ENSMUSG00000087263 -21.56264   -1.59204929  0.42902958 -0.158307705\n",
       "ENSMUSG00000096768 -17.22231    0.11623036 -0.48241158  0.013762611\n",
       "                   Time1:Treattrt Time2:Treattrt Time3:Treattrt Time4:Treattrt\n",
       "ENSMUSG00000033845 -0.09785309     0.30738823    -0.17100745     0.51846590   \n",
       "ENSMUSG00000102275  0.75222288    -0.41374446    -0.39706890    -2.02989249   \n",
       "ENSMUSG00000025903 -0.22232076     1.03395951    -0.35937555     1.31643960   \n",
       "ENSMUSG00000033813 -0.58933846    -0.39944218    -0.96090669    -1.16215825   \n",
       "ENSMUSG00000103280  0.95232069     2.86056802     1.81110825     3.13829310   \n",
       "ENSMUSG00000002459  0.84704261     2.61256087     1.20785833     2.29837023   \n",
       "ENSMUSG00000033793  0.85770107     0.61990040     0.69957170    -0.75117456   \n",
       "ENSMUSG00000025907  0.70875003     1.02366340     0.63595281    -2.60524944   \n",
       "ENSMUSG00000090031  1.46867319     1.13741811     0.72034045     2.26769684   \n",
       "ENSMUSG00000087247  1.19795365     4.02896265     3.32315002     2.67261654   \n",
       "ENSMUSG00000103845  0.48315287     1.62803809     1.75427097     1.04271724   \n",
       "ENSMUSG00000051285  0.39355738    -0.08717029     0.12585013     0.63741376   \n",
       "ENSMUSG00000103509  0.90921372    -0.91376300    -0.52293778     0.02237269   \n",
       "ENSMUSG00000061024 -0.43741927     1.13225572    -0.23062957    -0.68538643   \n",
       "ENSMUSG00000025911 -0.05574283    -1.55003242    -1.82936008    -0.13771367   \n",
       "ENSMUSG00000079671 -0.42196756     0.54961909    -0.37719192     0.90953382   \n",
       "ENSMUSG00000025912  1.69515431     0.96355974     0.71422917     2.18933812   \n",
       "ENSMUSG00000045210  0.26487611     0.08472591     0.02511669    -2.89570518   \n",
       "ENSMUSG00000025915  0.33040842     0.10039138     0.25218123     1.50110707   \n",
       "ENSMUSG00000098234 -0.28700282    -0.88865639    -0.63337494    -0.71466319   \n",
       "ENSMUSG00000099032 -2.04645243    -1.19237789    -0.93875574    -0.20573045   \n",
       "ENSMUSG00000025917  0.05376874     0.41924776     0.18737246    -0.58844058   \n",
       "ENSMUSG00000056763  0.66083852     0.33807426     0.09274507    -0.52237141   \n",
       "ENSMUSG00000067851  0.51416568     0.07891363     0.07896194     0.97550583   \n",
       "ENSMUSG00000042501  0.41593842     0.34813226     0.46798453    -0.69852413   \n",
       "ENSMUSG00000083422 -0.58496545     0.06151597     0.02727549    -2.52485437   \n",
       "ENSMUSG00000048960 -2.24175574    -1.96510290    -2.15003623    -1.11583327   \n",
       "ENSMUSG00000016918  1.15310456     1.70571414     1.39162098     1.63118459   \n",
       "ENSMUSG00000025938 -1.04656122    -1.59022758     2.59271650    -4.71649968   \n",
       "ENSMUSG00000005886  0.47773913     0.08887176     0.02619031     1.40102625   \n",
       "...                ...            ...            ...            ...           \n",
       "ENSMUSG00000031357 -0.17310810    -0.12530340    -0.090704666    1.2435746    \n",
       "ENSMUSG00000031360  0.26618600    -0.95922654     0.395483805    1.2147973    \n",
       "ENSMUSG00000031367  0.56578913     1.09393086     0.565846684   -0.5908186    \n",
       "ENSMUSG00000031370  0.04090180     0.02399113     0.053466419   -3.4855102    \n",
       "ENSMUSG00000031373  0.66367635    -1.11988926     0.513654795   -2.3669354    \n",
       "ENSMUSG00000040749 -0.70874103     0.61060901    -0.258193837   -3.0472409    \n",
       "ENSMUSG00000031379 -0.30356720    -2.29249664    -0.166156723   -0.2867227    \n",
       "ENSMUSG00000031380 -0.23403898    -1.00935845     0.622561447    0.5143089    \n",
       "ENSMUSG00000031381 -0.50685664    -2.19301392    -0.413521791   -1.5703979    \n",
       "ENSMUSG00000061778 -0.15826374    -0.32701620    -0.385130685   -2.5906054    \n",
       "ENSMUSG00000047757 -0.70525769    -0.10281831    -1.278734560   -0.4150123    \n",
       "ENSMUSG00000040621  0.13544800    -0.54623785    -0.078618179    0.1440248    \n",
       "ENSMUSG00000031342  0.46293225    -0.02665394     0.412146214   -3.3870938    \n",
       "ENSMUSG00000040586  0.06807786     0.21888574     0.108630541    1.3116949    \n",
       "ENSMUSG00000079317  0.24098657     0.73020480     0.943434299    1.4859083    \n",
       "ENSMUSG00000079316  0.64788186    -0.64409851     0.949063138   -1.2492626    \n",
       "ENSMUSG00000051224  0.07632336    -0.98158917    -0.192924127   -0.8592212    \n",
       "ENSMUSG00000000402  2.65149265     0.17085616     2.338064081    3.4145692    \n",
       "ENSMUSG00000049775 -0.02062741     1.23538373     0.656269863    1.7002719    \n",
       "ENSMUSG00000025742  0.55874193     0.19592874     0.397222648    1.5973199    \n",
       "ENSMUSG00000031358 -0.23319867    -0.43854927    -0.102914569   -3.1486247    \n",
       "ENSMUSG00000031355 -0.50724705    -1.56404519    -1.542988371   -0.1534450    \n",
       "ENSMUSG00000031352 -0.28592844     0.47681737     0.005416002   -0.5918546    \n",
       "ENSMUSG00000087159  0.79663822    -0.37206188    -0.124892832   -1.9124471    \n",
       "ENSMUSG00000081137  0.55961294    -0.72884996    -0.080471387    1.5036507    \n",
       "ENSMUSG00000035299 -0.73709615     0.67124899    -0.737580132   -6.6872631    \n",
       "ENSMUSG00000055357  0.59966882     0.02062771    -1.372910505    0.2428154    \n",
       "ENSMUSG00000072844 -0.93500766     0.57834400    -0.887798606   -0.7873020    \n",
       "ENSMUSG00000087263 -0.06140042    -0.08544201    -2.306577715   -0.4805922    \n",
       "ENSMUSG00000096768 -0.52214311     0.46602642     0.095264295   -3.3972656    "
      ]
     },
     "metadata": {},
     "output_type": "display_data"
    }
   ],
   "source": [
    "logFC"
   ]
  },
  {
   "cell_type": "code",
   "execution_count": null,
   "metadata": {},
   "outputs": [],
   "source": []
  }
 ],
 "metadata": {
  "kernelspec": {
   "display_name": "R",
   "language": "R",
   "name": "ir"
  },
  "language_info": {
   "codemirror_mode": "r",
   "file_extension": ".r",
   "mimetype": "text/x-r-source",
   "name": "R",
   "pygments_lexer": "r",
   "version": "3.6.1"
  }
 },
 "nbformat": 4,
 "nbformat_minor": 2
}
