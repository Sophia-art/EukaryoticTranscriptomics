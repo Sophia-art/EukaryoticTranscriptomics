{
 "cells": [
  {
   "cell_type": "code",
   "execution_count": 1,
   "metadata": {
    "scrolled": true
   },
   "outputs": [
    {
     "name": "stderr",
     "output_type": "stream",
     "text": [
      "Installing package into 'C:/Users/Sophia Schmidt/Documents/R/win-library/3.6'\n",
      "(as 'lib' is unspecified)\n"
     ]
    },
    {
     "name": "stdout",
     "output_type": "stream",
     "text": [
      "package 'BiocManager' successfully unpacked and MD5 sums checked\n",
      "\n",
      "The downloaded binary packages are in\n",
      "\tC:\\Users\\Sophia Schmidt\\AppData\\Local\\Temp\\RtmpysijdB\\downloaded_packages\n"
     ]
    },
    {
     "name": "stderr",
     "output_type": "stream",
     "text": [
      "Bioconductor version 3.9 (BiocManager 1.30.9), ?BiocManager::install for help\n",
      "Bioconductor version 3.9 (BiocManager 1.30.9), R 3.6.1 (2019-07-05)\n",
      "Installing package(s) 'DESeq2'\n"
     ]
    },
    {
     "name": "stdout",
     "output_type": "stream",
     "text": [
      "package 'DESeq2' successfully unpacked and MD5 sums checked\n",
      "\n",
      "The downloaded binary packages are in\n",
      "\tC:\\Users\\Sophia Schmidt\\AppData\\Local\\Temp\\RtmpysijdB\\downloaded_packages\n"
     ]
    },
    {
     "name": "stderr",
     "output_type": "stream",
     "text": [
      "Old packages: 'digest', 'rlang', 'cluster', 'data.table', 'dplyr', 'foreign',\n",
      "  'mgcv', 'purrr'\n",
      "Loading required package: S4Vectors\n",
      "Loading required package: stats4\n",
      "Loading required package: BiocGenerics\n",
      "Loading required package: parallel\n",
      "\n",
      "Attaching package: 'BiocGenerics'\n",
      "\n",
      "The following objects are masked from 'package:parallel':\n",
      "\n",
      "    clusterApply, clusterApplyLB, clusterCall, clusterEvalQ,\n",
      "    clusterExport, clusterMap, parApply, parCapply, parLapply,\n",
      "    parLapplyLB, parRapply, parSapply, parSapplyLB\n",
      "\n",
      "The following objects are masked from 'package:stats':\n",
      "\n",
      "    IQR, mad, sd, var, xtabs\n",
      "\n",
      "The following objects are masked from 'package:base':\n",
      "\n",
      "    anyDuplicated, append, as.data.frame, basename, cbind, colnames,\n",
      "    dirname, do.call, duplicated, eval, evalq, Filter, Find, get, grep,\n",
      "    grepl, intersect, is.unsorted, lapply, Map, mapply, match, mget,\n",
      "    order, paste, pmax, pmax.int, pmin, pmin.int, Position, rank,\n",
      "    rbind, Reduce, rownames, sapply, setdiff, sort, table, tapply,\n",
      "    union, unique, unsplit, which, which.max, which.min\n",
      "\n",
      "\n",
      "Attaching package: 'S4Vectors'\n",
      "\n",
      "The following object is masked from 'package:base':\n",
      "\n",
      "    expand.grid\n",
      "\n",
      "Loading required package: IRanges\n",
      "\n",
      "Attaching package: 'IRanges'\n",
      "\n",
      "The following object is masked from 'package:grDevices':\n",
      "\n",
      "    windows\n",
      "\n",
      "Loading required package: GenomicRanges\n",
      "Loading required package: GenomeInfoDb\n",
      "Loading required package: SummarizedExperiment\n",
      "Loading required package: Biobase\n",
      "Welcome to Bioconductor\n",
      "\n",
      "    Vignettes contain introductory material; view with\n",
      "    'browseVignettes()'. To cite Bioconductor, see\n",
      "    'citation(\"Biobase\")', and for packages 'citation(\"pkgname\")'.\n",
      "\n",
      "Loading required package: DelayedArray\n",
      "Loading required package: matrixStats\n",
      "\n",
      "Attaching package: 'matrixStats'\n",
      "\n",
      "The following objects are masked from 'package:Biobase':\n",
      "\n",
      "    anyMissing, rowMedians\n",
      "\n",
      "Loading required package: BiocParallel\n",
      "\n",
      "Attaching package: 'DelayedArray'\n",
      "\n",
      "The following objects are masked from 'package:matrixStats':\n",
      "\n",
      "    colMaxs, colMins, colRanges, rowMaxs, rowMins, rowRanges\n",
      "\n",
      "The following objects are masked from 'package:base':\n",
      "\n",
      "    aperm, apply, rowsum\n",
      "\n"
     ]
    }
   ],
   "source": [
    "install.packages(\"BiocManager\")\n",
    "library(BiocManager)\n",
    "BiocManager::install(\"DESeq2\")\n",
    "library(DESeq2) \n",
    "library(magrittr)"
   ]
  },
  {
   "cell_type": "code",
   "execution_count": 3,
   "metadata": {
    "scrolled": false
   },
   "outputs": [
    {
     "ename": "ERROR",
     "evalue": "Error: 'version' is not an exported object from 'namespace:DESeq2'\n",
     "output_type": "error",
     "traceback": [
      "Error: 'version' is not an exported object from 'namespace:DESeq2'\nTraceback:\n",
      "1. DESeq2::version",
      "2. getExportedValue(pkg, name)",
      "3. stop(gettextf(\"'%s' is not an exported object from 'namespace:%s'\", \n .     name, getNamespaceName(ns)), call. = FALSE, domain = NA)"
     ]
    }
   ],
   "source": [
    "DESeq2::version()"
   ]
  },
  {
   "cell_type": "code",
   "execution_count": 13,
   "metadata": {},
   "outputs": [],
   "source": [
    "avail <- BiocManager::available()"
   ]
  },
  {
   "cell_type": "code",
   "execution_count": 14,
   "metadata": {},
   "outputs": [
    {
     "data": {
      "text/html": [
       "18201"
      ],
      "text/latex": [
       "18201"
      ],
      "text/markdown": [
       "18201"
      ],
      "text/plain": [
       "[1] 18201"
      ]
     },
     "metadata": {},
     "output_type": "display_data"
    }
   ],
   "source": [
    "length(avail) "
   ]
  },
  {
   "cell_type": "code",
   "execution_count": 21,
   "metadata": {
    "scrolled": true
   },
   "outputs": [
    {
     "data": {
      "text/html": [
       "<table>\n",
       "<caption>A data.frame: 5 × 8</caption>\n",
       "<thead>\n",
       "\t<tr><th></th><th scope=col>ctl1</th><th scope=col>ctl2</th><th scope=col>ctl3</th><th scope=col>ctl4</th><th scope=col>treat1</th><th scope=col>treat2</th><th scope=col>treat3</th><th scope=col>treat4</th></tr>\n",
       "\t<tr><th></th><th scope=col>&lt;int&gt;</th><th scope=col>&lt;int&gt;</th><th scope=col>&lt;int&gt;</th><th scope=col>&lt;int&gt;</th><th scope=col>&lt;int&gt;</th><th scope=col>&lt;int&gt;</th><th scope=col>&lt;int&gt;</th><th scope=col>&lt;int&gt;</th></tr>\n",
       "</thead>\n",
       "<tbody>\n",
       "\t<tr><th scope=row>ENSMUSG00000102693</th><td>0</td><td>0</td><td>0</td><td>0</td><td> 0</td><td>0</td><td>0</td><td> 0</td></tr>\n",
       "\t<tr><th scope=row>ENSMUSG00000064842</th><td>0</td><td>0</td><td>0</td><td>0</td><td> 1</td><td>0</td><td>0</td><td> 0</td></tr>\n",
       "\t<tr><th scope=row>ENSMUSG00000051951</th><td>2</td><td>0</td><td>1</td><td>1</td><td>11</td><td>2</td><td>1</td><td>24</td></tr>\n",
       "\t<tr><th scope=row>ENSMUSG00000102851</th><td>0</td><td>0</td><td>0</td><td>0</td><td> 0</td><td>0</td><td>0</td><td> 0</td></tr>\n",
       "\t<tr><th scope=row>ENSMUSG00000103377</th><td>0</td><td>0</td><td>0</td><td>0</td><td> 0</td><td>0</td><td>0</td><td> 0</td></tr>\n",
       "</tbody>\n",
       "</table>\n"
      ],
      "text/latex": [
       "A data.frame: 5 × 8\n",
       "\\begin{tabular}{r|llllllll}\n",
       "  & ctl1 & ctl2 & ctl3 & ctl4 & treat1 & treat2 & treat3 & treat4\\\\\n",
       "  & <int> & <int> & <int> & <int> & <int> & <int> & <int> & <int>\\\\\n",
       "\\hline\n",
       "\tENSMUSG00000102693 & 0 & 0 & 0 & 0 &  0 & 0 & 0 &  0\\\\\n",
       "\tENSMUSG00000064842 & 0 & 0 & 0 & 0 &  1 & 0 & 0 &  0\\\\\n",
       "\tENSMUSG00000051951 & 2 & 0 & 1 & 1 & 11 & 2 & 1 & 24\\\\\n",
       "\tENSMUSG00000102851 & 0 & 0 & 0 & 0 &  0 & 0 & 0 &  0\\\\\n",
       "\tENSMUSG00000103377 & 0 & 0 & 0 & 0 &  0 & 0 & 0 &  0\\\\\n",
       "\\end{tabular}\n"
      ],
      "text/markdown": [
       "\n",
       "A data.frame: 5 × 8\n",
       "\n",
       "| <!--/--> | ctl1 &lt;int&gt; | ctl2 &lt;int&gt; | ctl3 &lt;int&gt; | ctl4 &lt;int&gt; | treat1 &lt;int&gt; | treat2 &lt;int&gt; | treat3 &lt;int&gt; | treat4 &lt;int&gt; |\n",
       "|---|---|---|---|---|---|---|---|---|\n",
       "| ENSMUSG00000102693 | 0 | 0 | 0 | 0 |  0 | 0 | 0 |  0 |\n",
       "| ENSMUSG00000064842 | 0 | 0 | 0 | 0 |  1 | 0 | 0 |  0 |\n",
       "| ENSMUSG00000051951 | 2 | 0 | 1 | 1 | 11 | 2 | 1 | 24 |\n",
       "| ENSMUSG00000102851 | 0 | 0 | 0 | 0 |  0 | 0 | 0 |  0 |\n",
       "| ENSMUSG00000103377 | 0 | 0 | 0 | 0 |  0 | 0 | 0 |  0 |\n",
       "\n"
      ],
      "text/plain": [
       "                   ctl1 ctl2 ctl3 ctl4 treat1 treat2 treat3 treat4\n",
       "ENSMUSG00000102693 0    0    0    0     0     0      0       0    \n",
       "ENSMUSG00000064842 0    0    0    0     1     0      0       0    \n",
       "ENSMUSG00000051951 2    0    1    1    11     2      1      24    \n",
       "ENSMUSG00000102851 0    0    0    0     0     0      0       0    \n",
       "ENSMUSG00000103377 0    0    0    0     0     0      0       0    "
      ]
     },
     "metadata": {},
     "output_type": "display_data"
    }
   ],
   "source": [
    "read_counts=read.table(\"C:\\\\Users\\\\Sophia Schmidt\\\\Documents\\\\Uni\\\\Master\\\\Programming for Life Science\\\\raw_countstdl.txt\")\n",
    "head(read_counts, n=5)"
   ]
  },
  {
   "cell_type": "code",
   "execution_count": 7,
   "metadata": {},
   "outputs": [],
   "source": [
    "row.names(read_counts) <- read_counts$Geneid"
   ]
  },
  {
   "cell_type": "code",
   "execution_count": 19,
   "metadata": {
    "scrolled": true
   },
   "outputs": [
    {
     "data": {
      "text/html": [
       "<table>\n",
       "<caption>A data.frame: 5 × 2</caption>\n",
       "<thead>\n",
       "\t<tr><th></th><th scope=col>treat3</th><th scope=col>treat4</th></tr>\n",
       "\t<tr><th></th><th scope=col>&lt;int&gt;</th><th scope=col>&lt;int&gt;</th></tr>\n",
       "</thead>\n",
       "<tbody>\n",
       "\t<tr><th scope=row>ENSMUSG00000102693</th><td>0</td><td> 0</td></tr>\n",
       "\t<tr><th scope=row>ENSMUSG00000064842</th><td>0</td><td> 0</td></tr>\n",
       "\t<tr><th scope=row>ENSMUSG00000051951</th><td>1</td><td>24</td></tr>\n",
       "\t<tr><th scope=row>ENSMUSG00000102851</th><td>0</td><td> 0</td></tr>\n",
       "\t<tr><th scope=row>ENSMUSG00000103377</th><td>0</td><td> 0</td></tr>\n",
       "</tbody>\n",
       "</table>\n"
      ],
      "text/latex": [
       "A data.frame: 5 × 2\n",
       "\\begin{tabular}{r|ll}\n",
       "  & treat3 & treat4\\\\\n",
       "  & <int> & <int>\\\\\n",
       "\\hline\n",
       "\tENSMUSG00000102693 & 0 &  0\\\\\n",
       "\tENSMUSG00000064842 & 0 &  0\\\\\n",
       "\tENSMUSG00000051951 & 1 & 24\\\\\n",
       "\tENSMUSG00000102851 & 0 &  0\\\\\n",
       "\tENSMUSG00000103377 & 0 &  0\\\\\n",
       "\\end{tabular}\n"
      ],
      "text/markdown": [
       "\n",
       "A data.frame: 5 × 2\n",
       "\n",
       "| <!--/--> | treat3 &lt;int&gt; | treat4 &lt;int&gt; |\n",
       "|---|---|---|\n",
       "| ENSMUSG00000102693 | 0 |  0 |\n",
       "| ENSMUSG00000064842 | 0 |  0 |\n",
       "| ENSMUSG00000051951 | 1 | 24 |\n",
       "| ENSMUSG00000102851 | 0 |  0 |\n",
       "| ENSMUSG00000103377 | 0 |  0 |\n",
       "\n"
      ],
      "text/plain": [
       "                   treat3 treat4\n",
       "ENSMUSG00000102693 0       0    \n",
       "ENSMUSG00000064842 0       0    \n",
       "ENSMUSG00000051951 1      24    \n",
       "ENSMUSG00000102851 0       0    \n",
       "ENSMUSG00000103377 0       0    "
      ]
     },
     "metadata": {},
     "output_type": "display_data"
    }
   ],
   "source": [
    "# I did not get that one (?)\n",
    "#read_counts <- read_counts[, -c(1:6)]\n",
    "#head(read_counts, n=5)"
   ]
  },
  {
   "cell_type": "code",
   "execution_count": 25,
   "metadata": {
    "scrolled": true
   },
   "outputs": [
    {
     "data": {
      "text/html": [
       "<table>\n",
       "<caption>A data.frame: 8 × 1</caption>\n",
       "<thead>\n",
       "\t<tr><th></th><th scope=col>condition</th></tr>\n",
       "\t<tr><th></th><th scope=col>&lt;fct&gt;</th></tr>\n",
       "</thead>\n",
       "<tbody>\n",
       "\t<tr><th scope=row>ctl1</th><td>control  </td></tr>\n",
       "\t<tr><th scope=row>ctl2</th><td>control  </td></tr>\n",
       "\t<tr><th scope=row>ctl3</th><td>control  </td></tr>\n",
       "\t<tr><th scope=row>ctl4</th><td>control  </td></tr>\n",
       "\t<tr><th scope=row>treat1</th><td>treatment</td></tr>\n",
       "\t<tr><th scope=row>treat2</th><td>treatment</td></tr>\n",
       "\t<tr><th scope=row>treat3</th><td>treatment</td></tr>\n",
       "\t<tr><th scope=row>treat4</th><td>treatment</td></tr>\n",
       "</tbody>\n",
       "</table>\n"
      ],
      "text/latex": [
       "A data.frame: 8 × 1\n",
       "\\begin{tabular}{r|l}\n",
       "  & condition\\\\\n",
       "  & <fct>\\\\\n",
       "\\hline\n",
       "\tctl1 & control  \\\\\n",
       "\tctl2 & control  \\\\\n",
       "\tctl3 & control  \\\\\n",
       "\tctl4 & control  \\\\\n",
       "\ttreat1 & treatment\\\\\n",
       "\ttreat2 & treatment\\\\\n",
       "\ttreat3 & treatment\\\\\n",
       "\ttreat4 & treatment\\\\\n",
       "\\end{tabular}\n"
      ],
      "text/markdown": [
       "\n",
       "A data.frame: 8 × 1\n",
       "\n",
       "| <!--/--> | condition &lt;fct&gt; |\n",
       "|---|---|\n",
       "| ctl1 | control   |\n",
       "| ctl2 | control   |\n",
       "| ctl3 | control   |\n",
       "| ctl4 | control   |\n",
       "| treat1 | treatment |\n",
       "| treat2 | treatment |\n",
       "| treat3 | treatment |\n",
       "| treat4 | treatment |\n",
       "\n"
      ],
      "text/plain": [
       "       condition\n",
       "ctl1   control  \n",
       "ctl2   control  \n",
       "ctl3   control  \n",
       "ctl4   control  \n",
       "treat1 treatment\n",
       "treat2 treatment\n",
       "treat3 treatment\n",
       "treat4 treatment"
      ]
     },
     "metadata": {},
     "output_type": "display_data"
    }
   ],
   "source": [
    "sample_info <- data.frame(condition=rep(c(\"control\",\"treatment\"), each=4),row.names=names(read_counts))\n",
    "sample_info"
   ]
  },
  {
   "cell_type": "code",
   "execution_count": 26,
   "metadata": {
    "scrolled": true
   },
   "outputs": [
    {
     "data": {
      "text/plain": [
       "class: DESeqDataSet \n",
       "dim: 6 8 \n",
       "metadata(1): version\n",
       "assays(1): counts\n",
       "rownames(6): ENSMUSG00000102693 ENSMUSG00000064842 ...\n",
       "  ENSMUSG00000103377 ENSMUSG00000104017\n",
       "rowData names(0):\n",
       "colnames(8): ctl1 ctl2 ... treat3 treat4\n",
       "colData names(1): condition"
      ]
     },
     "metadata": {},
     "output_type": "display_data"
    }
   ],
   "source": [
    "DESeq.ds <- DESeqDataSetFromMatrix(countData = read_counts,\n",
    "                                      colData = sample_info,\n",
    "                                      design = ~condition)\n",
    "head(DESeq.ds)"
   ]
  },
  {
   "cell_type": "code",
   "execution_count": 27,
   "metadata": {},
   "outputs": [
    {
     "data": {
      "text/plain": [
       "DataFrame with 6 rows and 1 column\n",
       "       condition\n",
       "        <factor>\n",
       "ctl1     control\n",
       "ctl2     control\n",
       "ctl3     control\n",
       "ctl4     control\n",
       "treat1 treatment\n",
       "treat2 treatment"
      ]
     },
     "metadata": {},
     "output_type": "display_data"
    },
    {
     "data": {
      "text/html": [
       "<table>\n",
       "<caption>A matrix: 6 × 8 of type int</caption>\n",
       "<thead>\n",
       "\t<tr><th></th><th scope=col>ctl1</th><th scope=col>ctl2</th><th scope=col>ctl3</th><th scope=col>ctl4</th><th scope=col>treat1</th><th scope=col>treat2</th><th scope=col>treat3</th><th scope=col>treat4</th></tr>\n",
       "</thead>\n",
       "<tbody>\n",
       "\t<tr><th scope=row>ENSMUSG00000102693</th><td>0</td><td>0</td><td>0</td><td>0</td><td> 0</td><td>0</td><td>0</td><td> 0</td></tr>\n",
       "\t<tr><th scope=row>ENSMUSG00000064842</th><td>0</td><td>0</td><td>0</td><td>0</td><td> 1</td><td>0</td><td>0</td><td> 0</td></tr>\n",
       "\t<tr><th scope=row>ENSMUSG00000051951</th><td>2</td><td>0</td><td>1</td><td>1</td><td>11</td><td>2</td><td>1</td><td>24</td></tr>\n",
       "\t<tr><th scope=row>ENSMUSG00000102851</th><td>0</td><td>0</td><td>0</td><td>0</td><td> 0</td><td>0</td><td>0</td><td> 0</td></tr>\n",
       "\t<tr><th scope=row>ENSMUSG00000103377</th><td>0</td><td>0</td><td>0</td><td>0</td><td> 0</td><td>0</td><td>0</td><td> 0</td></tr>\n",
       "\t<tr><th scope=row>ENSMUSG00000104017</th><td>0</td><td>0</td><td>0</td><td>0</td><td> 0</td><td>0</td><td>0</td><td> 0</td></tr>\n",
       "</tbody>\n",
       "</table>\n"
      ],
      "text/latex": [
       "A matrix: 6 × 8 of type int\n",
       "\\begin{tabular}{r|llllllll}\n",
       "  & ctl1 & ctl2 & ctl3 & ctl4 & treat1 & treat2 & treat3 & treat4\\\\\n",
       "\\hline\n",
       "\tENSMUSG00000102693 & 0 & 0 & 0 & 0 &  0 & 0 & 0 &  0\\\\\n",
       "\tENSMUSG00000064842 & 0 & 0 & 0 & 0 &  1 & 0 & 0 &  0\\\\\n",
       "\tENSMUSG00000051951 & 2 & 0 & 1 & 1 & 11 & 2 & 1 & 24\\\\\n",
       "\tENSMUSG00000102851 & 0 & 0 & 0 & 0 &  0 & 0 & 0 &  0\\\\\n",
       "\tENSMUSG00000103377 & 0 & 0 & 0 & 0 &  0 & 0 & 0 &  0\\\\\n",
       "\tENSMUSG00000104017 & 0 & 0 & 0 & 0 &  0 & 0 & 0 &  0\\\\\n",
       "\\end{tabular}\n"
      ],
      "text/markdown": [
       "\n",
       "A matrix: 6 × 8 of type int\n",
       "\n",
       "| <!--/--> | ctl1 | ctl2 | ctl3 | ctl4 | treat1 | treat2 | treat3 | treat4 |\n",
       "|---|---|---|---|---|---|---|---|---|\n",
       "| ENSMUSG00000102693 | 0 | 0 | 0 | 0 |  0 | 0 | 0 |  0 |\n",
       "| ENSMUSG00000064842 | 0 | 0 | 0 | 0 |  1 | 0 | 0 |  0 |\n",
       "| ENSMUSG00000051951 | 2 | 0 | 1 | 1 | 11 | 2 | 1 | 24 |\n",
       "| ENSMUSG00000102851 | 0 | 0 | 0 | 0 |  0 | 0 | 0 |  0 |\n",
       "| ENSMUSG00000103377 | 0 | 0 | 0 | 0 |  0 | 0 | 0 |  0 |\n",
       "| ENSMUSG00000104017 | 0 | 0 | 0 | 0 |  0 | 0 | 0 |  0 |\n",
       "\n"
      ],
      "text/plain": [
       "                   ctl1 ctl2 ctl3 ctl4 treat1 treat2 treat3 treat4\n",
       "ENSMUSG00000102693 0    0    0    0     0     0      0       0    \n",
       "ENSMUSG00000064842 0    0    0    0     1     0      0       0    \n",
       "ENSMUSG00000051951 2    0    1    1    11     2      1      24    \n",
       "ENSMUSG00000102851 0    0    0    0     0     0      0       0    \n",
       "ENSMUSG00000103377 0    0    0    0     0     0      0       0    \n",
       "ENSMUSG00000104017 0    0    0    0     0     0      0       0    "
      ]
     },
     "metadata": {},
     "output_type": "display_data"
    },
    {
     "data": {
      "text/plain": [
       "GRangesList object of length 6:\n",
       "$ENSMUSG00000102693 \n",
       "GRanges object with 0 ranges and 0 metadata columns:\n",
       "   seqnames    ranges strand\n",
       "      <Rle> <IRanges>  <Rle>\n",
       "\n",
       "$ENSMUSG00000064842 \n",
       "GRanges object with 0 ranges and 0 metadata columns:\n",
       "     seqnames ranges strand\n",
       "\n",
       "$ENSMUSG00000051951 \n",
       "GRanges object with 0 ranges and 0 metadata columns:\n",
       "     seqnames ranges strand\n",
       "\n",
       "...\n",
       "<3 more elements>\n",
       "-------\n",
       "seqinfo: no sequences"
      ]
     },
     "metadata": {},
     "output_type": "display_data"
    }
   ],
   "source": [
    "# Check the DESeqDataSet\n",
    "colData(DESeq.ds) %>% head\n",
    "assay(DESeq.ds) %>% head\n",
    "rowRanges(DESeq.ds) %>% head"
   ]
  },
  {
   "cell_type": "code",
   "execution_count": 28,
   "metadata": {},
   "outputs": [],
   "source": [
    "# Remove the genes without any counts\n",
    "DESeq.ds <- DESeq.ds[rowSums(counts(DESeq.ds)) > 0,]"
   ]
  },
  {
   "cell_type": "code",
   "execution_count": 29,
   "metadata": {},
   "outputs": [
    {
     "data": {
      "text/html": [
       "<dl class=dl-horizontal>\n",
       "\t<dt>ctl1</dt>\n",
       "\t\t<dd>0.861385212241083</dd>\n",
       "\t<dt>ctl2</dt>\n",
       "\t\t<dd>0.760175549092362</dd>\n",
       "\t<dt>ctl3</dt>\n",
       "\t\t<dd>0.808985675298092</dd>\n",
       "\t<dt>ctl4</dt>\n",
       "\t\t<dd>0.833769556412077</dd>\n",
       "\t<dt>treat1</dt>\n",
       "\t\t<dd>0.94871557100813</dd>\n",
       "\t<dt>treat2</dt>\n",
       "\t\t<dd>0.819283353107582</dd>\n",
       "\t<dt>treat3</dt>\n",
       "\t\t<dd>0.978758960142215</dd>\n",
       "\t<dt>treat4</dt>\n",
       "\t\t<dd>4.05397505356715</dd>\n",
       "</dl>\n"
      ],
      "text/latex": [
       "\\begin{description*}\n",
       "\\item[ctl1] 0.861385212241083\n",
       "\\item[ctl2] 0.760175549092362\n",
       "\\item[ctl3] 0.808985675298092\n",
       "\\item[ctl4] 0.833769556412077\n",
       "\\item[treat1] 0.94871557100813\n",
       "\\item[treat2] 0.819283353107582\n",
       "\\item[treat3] 0.978758960142215\n",
       "\\item[treat4] 4.05397505356715\n",
       "\\end{description*}\n"
      ],
      "text/markdown": [
       "ctl1\n",
       ":   0.861385212241083ctl2\n",
       ":   0.760175549092362ctl3\n",
       ":   0.808985675298092ctl4\n",
       ":   0.833769556412077treat1\n",
       ":   0.94871557100813treat2\n",
       ":   0.819283353107582treat3\n",
       ":   0.978758960142215treat4\n",
       ":   4.05397505356715\n",
       "\n"
      ],
      "text/plain": [
       "     ctl1      ctl2      ctl3      ctl4    treat1    treat2    treat3    treat4 \n",
       "0.8613852 0.7601755 0.8089857 0.8337696 0.9487156 0.8192834 0.9787590 4.0539751 "
      ]
     },
     "metadata": {},
     "output_type": "display_data"
    }
   ],
   "source": [
    "# Normalize the count reads with size factor\n",
    "DESeq.ds <- estimateSizeFactors(DESeq.ds)\n",
    "sizeFactors(DESeq.ds)\n",
    "norm_counts <- counts(DESeq.ds, normalized = TRUE)"
   ]
  },
  {
   "cell_type": "code",
   "execution_count": 30,
   "metadata": {},
   "outputs": [],
   "source": [
    "# Transform normalized read counts to log2 scale using a pseudocount of 1\n",
    "log.norm.counts <- log2(norm_counts + 1)"
   ]
  },
  {
   "cell_type": "code",
   "execution_count": 31,
   "metadata": {},
   "outputs": [
    {
     "data": {
      "image/png": "[encoded data removed]",
      "text/plain": [
       "Plot with title \"log2-transformed read counts\""
      ]
     },
     "metadata": {},
     "output_type": "display_data"
    }
   ],
   "source": [
    "# Generate a boxplot of log2-transformed read counts\n",
    "boxplot(log.norm.counts, notch = TRUE ,\n",
    "             main = \"log2-transformed read counts\",\n",
    "              ylab = \"log2(read_counts)\")"
   ]
  },
  {
   "cell_type": "code",
   "execution_count": null,
   "metadata": {},
   "outputs": [],
   "source": []
  }
 ],
 "metadata": {
  "kernelspec": {
   "display_name": "R",
   "language": "R",
   "name": "ir"
  },
  "language_info": {
   "codemirror_mode": "r",
   "file_extension": ".r",
   "mimetype": "text/x-r-source",
   "name": "R",
   "pygments_lexer": "r",
   "version": "3.6.1"
  }
 },
 "nbformat": 4,
 "nbformat_minor": 2
}
